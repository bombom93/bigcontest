{
 "cells": [
  {
   "cell_type": "code",
   "execution_count": 147,
   "metadata": {
    "colab": {},
    "colab_type": "code",
    "executionInfo": {
     "elapsed": 860,
     "status": "ok",
     "timestamp": 1599546852296,
     "user": {
      "displayName": "한권수",
      "photoUrl": "https://lh3.googleusercontent.com/a-/AOh14GgEXobx-b12QcyE7QdPHwElRqhoxfX3SYog_YAS=s64",
      "userId": "16614844942906017959"
     },
     "user_tz": -540
    },
    "id": "Oa8vdPSLE4e2"
   },
   "outputs": [],
   "source": [
    "# 농수축 & 이미용 EDA\n",
    "import pandas as pd\n",
    "import numpy as np\n",
    "import statistics\n",
    "import matplotlib.pyplot as plt\n",
    "import seaborn as sns\n",
    "import matplotlib as mpl\n",
    "import seaborn as sns\n",
    "from tqdm.notebook import tqdm\n",
    "%matplotlib inline\n",
    "plt.style.use('ggplot') # 그래프에서 격자로 숫자 범위가 눈에 잘 띄도록 ggplot 스타일을 사용\n",
    "plt.rcParams['font.family'] = 'Malgun Gothic'"
   ]
  },
  {
   "cell_type": "code",
   "execution_count": 164,
   "metadata": {
    "colab": {
     "base_uri": "https://localhost:8080/",
     "height": 34
    },
    "colab_type": "code",
    "executionInfo": {
     "elapsed": 13470,
     "status": "ok",
     "timestamp": 1599546868081,
     "user": {
      "displayName": "한권수",
      "photoUrl": "https://lh3.googleusercontent.com/a-/AOh14GgEXobx-b12QcyE7QdPHwElRqhoxfX3SYog_YAS=s64",
      "userId": "16614844942906017959"
     },
     "user_tz": -540
    },
    "id": "Nb8LXydKkvbR",
    "outputId": "274c07da-9b3f-46f0-da52-55b53af041db",
    "scrolled": false
   },
   "outputs": [
    {
     "name": "stdout",
     "output_type": "stream",
     "text": [
      "Not running on CoLab\n"
     ]
    }
   ],
   "source": [
    "if 'google.colab' in str(get_ipython()):\n",
    "    print('Running on CoLab')\n",
    "    from google.colab import drive\n",
    "    drive.mount('/content/drive')\n",
    "    df = pd.read_excel('/content/drive/My Drive/빅데이터_콘테스트/base_line.xlsx', header=0)\n",
    "else:\n",
    "    print('Not running on CoLab')\n",
    "    df = pd.read_excel('c:/bc/base_line.xlsx', header=0)"
   ]
  },
  {
   "cell_type": "code",
   "execution_count": 165,
   "metadata": {},
   "outputs": [],
   "source": [
    "pd.options.display.max_rows = 100\n",
    "df.exp_min.fillna(0, inplace=True)\n",
    "df['code2'] = pd.factorize(df.p_group)[0]"
   ]
  },
  {
   "cell_type": "code",
   "execution_count": 166,
   "metadata": {
    "scrolled": false
   },
   "outputs": [],
   "source": [
    "index_total = df[df['total_price']==50000].index\n",
    "df.drop(index_total,inplace=True)"
   ]
  },
  {
   "cell_type": "code",
   "execution_count": 167,
   "metadata": {},
   "outputs": [],
   "source": [
    "df.reset_index(drop=True, inplace=True)"
   ]
  },
  {
   "cell_type": "code",
   "execution_count": 170,
   "metadata": {},
   "outputs": [],
   "source": [
    "df.to_excel('test_ori_df.xlsx')"
   ]
  },
  {
   "cell_type": "code",
   "execution_count": 171,
   "metadata": {
    "scrolled": true
   },
   "outputs": [
    {
     "data": {
      "application/vnd.jupyter.widget-view+json": {
       "model_id": "4d0ef52a1ddb450183b75ecb952877c9",
       "version_major": 2,
       "version_minor": 0
      },
      "text/plain": [
       "HBox(children=(FloatProgress(value=0.0, max=35378.0), HTML(value='')))"
      ]
     },
     "metadata": {},
     "output_type": "display_data"
    },
    {
     "name": "stderr",
     "output_type": "stream",
     "text": [
      "C:\\Users\\user\\anaconda3\\envs\\mulcam\\lib\\site-packages\\ipykernel_launcher.py:19: SettingWithCopyWarning: \n",
      "A value is trying to be set on a copy of a slice from a DataFrame\n",
      "\n",
      "See the caveats in the documentation: https://pandas.pydata.org/pandas-docs/stable/user_guide/indexing.html#returning-a-view-versus-a-copy\n"
     ]
    },
    {
     "name": "stdout",
     "output_type": "stream",
     "text": [
      "5 1\n",
      "8 2\n",
      "11 3\n",
      "14 4\n",
      "17 5\n",
      "19 6\n",
      "22 7\n",
      "24 8\n",
      "28 9\n",
      "31 10\n",
      "33 11\n",
      "34 12\n",
      "37 13\n",
      "40 14\n",
      "43 15\n",
      "49 16\n",
      "52 17\n",
      "54 18\n",
      "57 19\n",
      "63 20\n",
      "66 21\n",
      "69 22\n",
      "72 23\n",
      "75 24\n",
      "78 25\n",
      "90 26\n",
      "92 27\n",
      "104 28\n",
      "107 29\n",
      "109 30\n",
      "112 31\n",
      "118 32\n",
      "121 33\n",
      "124 34\n",
      "127 35\n",
      "136 36\n",
      "142 37\n",
      "154 38\n",
      "157 39\n",
      "161 40\n",
      "164 41\n",
      "170 42\n",
      "173 43\n",
      "176 44\n",
      "179 45\n",
      "181 46\n",
      "184 47\n",
      "187 48\n",
      "190 49\n",
      "193 50\n",
      "205 51\n",
      "208 52\n",
      "211 53\n",
      "214 54\n",
      "223 55\n",
      "226 56\n",
      "240 57\n",
      "243 58\n",
      "249 59\n",
      "252 60\n",
      "255 61\n",
      "258 62\n",
      "261 63\n",
      "264 64\n",
      "276 65\n",
      "287 66\n",
      "289 67\n",
      "\n"
     ]
    },
    {
     "name": "stderr",
     "output_type": "stream",
     "text": [
      "C:\\Users\\user\\anaconda3\\envs\\mulcam\\lib\\site-packages\\ipykernel_launcher.py:25: SettingWithCopyWarning: \n",
      "A value is trying to be set on a copy of a slice from a DataFrame\n",
      "\n",
      "See the caveats in the documentation: https://pandas.pydata.org/pandas-docs/stable/user_guide/indexing.html#returning-a-view-versus-a-copy\n"
     ]
    }
   ],
   "source": [
    "idx_dict = {'start':0, 'end':0}\n",
    "idx = 0\n",
    "\n",
    "for row in tqdm(range(df.shape[0]-1)):\n",
    "    current_day = df.loc[row]['DAY']\n",
    "    next_day = df.loc[row+1]['DAY']\n",
    "    \n",
    "    current_group = df.loc[row+1]['p_group']\n",
    "    next_group = df.loc[row+1]['p_group']\n",
    "    \n",
    "    current_mcode = df.loc[row]['m_code']\n",
    "    next_mcode = df.loc[row+1]['m_code']\n",
    "    if row == 293:\n",
    "        break\n",
    "    if ((current_day == next_day)  and (current_group == next_group)) and (abs(current_mcode - next_mcode) < 5):\n",
    "        pass\n",
    "    else:\n",
    "        idx_dict['end'] = row + 1\n",
    "        df['code2'][idx_dict['start']:idx_dict['end']] = idx\n",
    "        idx += 1\n",
    "        idx_dict['start'] = idx_dict['end']\n",
    "        print(row, idx)\n",
    "#         print(idx_dict['start'],idx_dict['end'])\n",
    "idx_dict['end'] = row + 2\n",
    "df['code2'][idx_dict['start']:idx_dict['end']] = idx\n"
   ]
  },
  {
   "cell_type": "code",
   "execution_count": 178,
   "metadata": {},
   "outputs": [
    {
     "data": {
      "text/html": [
       "<div>\n",
       "<style scoped>\n",
       "    .dataframe tbody tr th:only-of-type {\n",
       "        vertical-align: middle;\n",
       "    }\n",
       "\n",
       "    .dataframe tbody tr th {\n",
       "        vertical-align: top;\n",
       "    }\n",
       "\n",
       "    .dataframe thead th {\n",
       "        text-align: right;\n",
       "    }\n",
       "</style>\n",
       "<table border=\"1\" class=\"dataframe\">\n",
       "  <thead>\n",
       "    <tr style=\"text-align: right;\">\n",
       "      <th></th>\n",
       "      <th>broadcast</th>\n",
       "      <th>exp_min</th>\n",
       "      <th>m_code</th>\n",
       "      <th>p_code</th>\n",
       "      <th>p_name</th>\n",
       "      <th>p_group</th>\n",
       "      <th>unit_price</th>\n",
       "      <th>total_price</th>\n",
       "      <th>sales</th>\n",
       "      <th>YEAR</th>\n",
       "      <th>...</th>\n",
       "      <th>DAY</th>\n",
       "      <th>HOUR</th>\n",
       "      <th>MINUTE</th>\n",
       "      <th>SECOND</th>\n",
       "      <th>YEAR_DAY</th>\n",
       "      <th>DAY_NAME</th>\n",
       "      <th>DAY_NUM</th>\n",
       "      <th>code</th>\n",
       "      <th>no</th>\n",
       "      <th>code2</th>\n",
       "    </tr>\n",
       "  </thead>\n",
       "  <tbody>\n",
       "    <tr>\n",
       "      <th>290</th>\n",
       "      <td>2019-01-04 12:00:00</td>\n",
       "      <td>20.0</td>\n",
       "      <td>100253</td>\n",
       "      <td>200864</td>\n",
       "      <td>안동간고등어 20팩</td>\n",
       "      <td>농수축</td>\n",
       "      <td>30900</td>\n",
       "      <td>30671000</td>\n",
       "      <td>993</td>\n",
       "      <td>2019</td>\n",
       "      <td>...</td>\n",
       "      <td>4</td>\n",
       "      <td>12</td>\n",
       "      <td>0</td>\n",
       "      <td>0</td>\n",
       "      <td>2019-01-04</td>\n",
       "      <td>Friday</td>\n",
       "      <td>5</td>\n",
       "      <td>67</td>\n",
       "      <td>290</td>\n",
       "      <td>67</td>\n",
       "    </tr>\n",
       "    <tr>\n",
       "      <th>291</th>\n",
       "      <td>2019-01-04 12:20:00</td>\n",
       "      <td>20.0</td>\n",
       "      <td>100253</td>\n",
       "      <td>200864</td>\n",
       "      <td>안동간고등어 20팩</td>\n",
       "      <td>농수축</td>\n",
       "      <td>30900</td>\n",
       "      <td>44792000</td>\n",
       "      <td>1450</td>\n",
       "      <td>2019</td>\n",
       "      <td>...</td>\n",
       "      <td>4</td>\n",
       "      <td>12</td>\n",
       "      <td>20</td>\n",
       "      <td>0</td>\n",
       "      <td>2019-01-04</td>\n",
       "      <td>Friday</td>\n",
       "      <td>5</td>\n",
       "      <td>67</td>\n",
       "      <td>291</td>\n",
       "      <td>67</td>\n",
       "    </tr>\n",
       "    <tr>\n",
       "      <th>292</th>\n",
       "      <td>2019-01-04 12:40:00</td>\n",
       "      <td>20.0</td>\n",
       "      <td>100253</td>\n",
       "      <td>200864</td>\n",
       "      <td>안동간고등어 20팩</td>\n",
       "      <td>농수축</td>\n",
       "      <td>30900</td>\n",
       "      <td>50049000</td>\n",
       "      <td>1620</td>\n",
       "      <td>2019</td>\n",
       "      <td>...</td>\n",
       "      <td>4</td>\n",
       "      <td>12</td>\n",
       "      <td>40</td>\n",
       "      <td>0</td>\n",
       "      <td>2019-01-04</td>\n",
       "      <td>Friday</td>\n",
       "      <td>5</td>\n",
       "      <td>67</td>\n",
       "      <td>292</td>\n",
       "      <td>67</td>\n",
       "    </tr>\n",
       "    <tr>\n",
       "      <th>293</th>\n",
       "      <td>2019-01-04 13:00:00</td>\n",
       "      <td>20.0</td>\n",
       "      <td>100255</td>\n",
       "      <td>200868</td>\n",
       "      <td>한일 대용량 스텐 분쇄믹서기</td>\n",
       "      <td>주방</td>\n",
       "      <td>109800</td>\n",
       "      <td>17529000</td>\n",
       "      <td>160</td>\n",
       "      <td>2019</td>\n",
       "      <td>...</td>\n",
       "      <td>4</td>\n",
       "      <td>13</td>\n",
       "      <td>0</td>\n",
       "      <td>0</td>\n",
       "      <td>2019-01-04</td>\n",
       "      <td>Friday</td>\n",
       "      <td>5</td>\n",
       "      <td>67</td>\n",
       "      <td>293</td>\n",
       "      <td>67</td>\n",
       "    </tr>\n",
       "    <tr>\n",
       "      <th>294</th>\n",
       "      <td>2019-01-04 13:20:00</td>\n",
       "      <td>20.0</td>\n",
       "      <td>100255</td>\n",
       "      <td>200868</td>\n",
       "      <td>한일 대용량 스텐 분쇄믹서기</td>\n",
       "      <td>주방</td>\n",
       "      <td>109800</td>\n",
       "      <td>31775000</td>\n",
       "      <td>289</td>\n",
       "      <td>2019</td>\n",
       "      <td>...</td>\n",
       "      <td>4</td>\n",
       "      <td>13</td>\n",
       "      <td>20</td>\n",
       "      <td>0</td>\n",
       "      <td>2019-01-04</td>\n",
       "      <td>Friday</td>\n",
       "      <td>5</td>\n",
       "      <td>67</td>\n",
       "      <td>294</td>\n",
       "      <td>67</td>\n",
       "    </tr>\n",
       "    <tr>\n",
       "      <th>295</th>\n",
       "      <td>2019-01-04 13:40:00</td>\n",
       "      <td>20.0</td>\n",
       "      <td>100255</td>\n",
       "      <td>200868</td>\n",
       "      <td>한일 대용량 스텐 분쇄믹서기</td>\n",
       "      <td>주방</td>\n",
       "      <td>109800</td>\n",
       "      <td>42918000</td>\n",
       "      <td>391</td>\n",
       "      <td>2019</td>\n",
       "      <td>...</td>\n",
       "      <td>4</td>\n",
       "      <td>13</td>\n",
       "      <td>40</td>\n",
       "      <td>0</td>\n",
       "      <td>2019-01-04</td>\n",
       "      <td>Friday</td>\n",
       "      <td>5</td>\n",
       "      <td>67</td>\n",
       "      <td>295</td>\n",
       "      <td>2</td>\n",
       "    </tr>\n",
       "  </tbody>\n",
       "</table>\n",
       "<p>6 rows × 21 columns</p>\n",
       "</div>"
      ],
      "text/plain": [
       "              broadcast  exp_min  m_code  p_code           p_name p_group  \\\n",
       "290 2019-01-04 12:00:00     20.0  100253  200864       안동간고등어 20팩     농수축   \n",
       "291 2019-01-04 12:20:00     20.0  100253  200864       안동간고등어 20팩     농수축   \n",
       "292 2019-01-04 12:40:00     20.0  100253  200864       안동간고등어 20팩     농수축   \n",
       "293 2019-01-04 13:00:00     20.0  100255  200868  한일 대용량 스텐 분쇄믹서기      주방   \n",
       "294 2019-01-04 13:20:00     20.0  100255  200868  한일 대용량 스텐 분쇄믹서기      주방   \n",
       "295 2019-01-04 13:40:00     20.0  100255  200868  한일 대용량 스텐 분쇄믹서기      주방   \n",
       "\n",
       "     unit_price  total_price  sales  YEAR  ...  DAY  HOUR  MINUTE  SECOND  \\\n",
       "290       30900     30671000    993  2019  ...    4    12       0       0   \n",
       "291       30900     44792000   1450  2019  ...    4    12      20       0   \n",
       "292       30900     50049000   1620  2019  ...    4    12      40       0   \n",
       "293      109800     17529000    160  2019  ...    4    13       0       0   \n",
       "294      109800     31775000    289  2019  ...    4    13      20       0   \n",
       "295      109800     42918000    391  2019  ...    4    13      40       0   \n",
       "\n",
       "      YEAR_DAY DAY_NAME DAY_NUM  code   no  code2  \n",
       "290 2019-01-04   Friday       5    67  290     67  \n",
       "291 2019-01-04   Friday       5    67  291     67  \n",
       "292 2019-01-04   Friday       5    67  292     67  \n",
       "293 2019-01-04   Friday       5    67  293     67  \n",
       "294 2019-01-04   Friday       5    67  294     67  \n",
       "295 2019-01-04   Friday       5    67  295      2  \n",
       "\n",
       "[6 rows x 21 columns]"
      ]
     },
     "execution_count": 178,
     "metadata": {},
     "output_type": "execute_result"
    }
   ],
   "source": [
    "df.loc[290:295]"
   ]
  },
  {
   "cell_type": "code",
   "execution_count": 155,
   "metadata": {
    "scrolled": false
   },
   "outputs": [],
   "source": [
    "df_sum = df[['exp_min','total_price','sales','code2']].groupby(by='code2').sum()\n",
    "df_mean = df[['unit_price','YEAR','MONTH','DAY','HOUR','MINUTE','DAY_NUM','code2']].groupby(by='code2').mean()\n",
    "df_temp = pd.merge(df_mean,df_sum,on='code2',how='left')\n",
    "df_name = df[['code2','p_name']].groupby(by='code2').max()\n",
    "df_broad = df[['code2','broadcast']].groupby(by='code2').min()\n",
    "df_short = pd.merge(df_name,df_temp,on='code2',how='left')\n",
    "df_short = pd.merge(df_short,df_broad,on='code2',how='left')\n",
    "df_short['p_group'] = 0\n",
    "\n",
    "df_short[\"YEAR\"] = df_short['broadcast'].dt.year\n",
    "df_short[\"MONTH\"] = df_short['broadcast'].dt.month\n",
    "df_short[\"DAY\"] = df_short['broadcast'].dt.day\n",
    "df_short[\"HOUR\"] = df_short['broadcast'].dt.hour\n",
    "df_short[\"MINUTE\"] = df_short['broadcast'].dt.minute\n",
    "df_short['DAY_NUM'] = df_short['broadcast'].dt.weekday+1"
   ]
  },
  {
   "cell_type": "code",
   "execution_count": 163,
   "metadata": {
    "scrolled": true
   },
   "outputs": [],
   "source": [
    "df.to_excel('test_df_short3.xlsx',index=False)"
   ]
  },
  {
   "cell_type": "code",
   "execution_count": 161,
   "metadata": {},
   "outputs": [],
   "source": [
    "df_short.to_excel('test_df_short2.xlsx',index=False)"
   ]
  },
  {
   "cell_type": "code",
   "execution_count": 146,
   "metadata": {},
   "outputs": [
    {
     "data": {
      "text/plain": [
       "count    6859.000000\n",
       "mean       59.635151\n",
       "std         9.174046\n",
       "min         0.000000\n",
       "25%        60.000000\n",
       "50%        60.000000\n",
       "75%        60.000000\n",
       "max       150.000000\n",
       "Name: exp_min, dtype: float64"
      ]
     },
     "execution_count": 146,
     "metadata": {},
     "output_type": "execute_result"
    }
   ],
   "source": [
    "df_short.exp_min.describe()"
   ]
  },
  {
   "cell_type": "code",
   "execution_count": 132,
   "metadata": {},
   "outputs": [
    {
     "data": {
      "text/plain": [
       "<matplotlib.axes._subplots.AxesSubplot at 0x24c4a734550>"
      ]
     },
     "execution_count": 132,
     "metadata": {},
     "output_type": "execute_result"
    },
    {
     "name": "stderr",
     "output_type": "stream",
     "text": [
      "C:\\Users\\user\\anaconda3\\envs\\mulcam\\lib\\site-packages\\matplotlib\\backends\\backend_agg.py:214: RuntimeWarning: Glyph 8722 missing from current font.\n",
      "  font.set_text(s, 0.0, flags=flags)\n",
      "C:\\Users\\user\\anaconda3\\envs\\mulcam\\lib\\site-packages\\matplotlib\\backends\\backend_agg.py:183: RuntimeWarning: Glyph 8722 missing from current font.\n",
      "  font.set_text(s, 0, flags=flags)\n"
     ]
    },
    {
     "data": {
      "image/png": "[encoded data removed]",
      "text/plain": [
       "<Figure size 864x432 with 2 Axes>"
      ]
     },
     "metadata": {},
     "output_type": "display_data"
    }
   ],
   "source": [
    "f, ax = plt.subplots(1,2, figsize=(12,6))\n",
    "sns.kdeplot(df_short.unit_price, ax = ax[0])\n",
    "sns.lineplot(x=df_short.unit_price,y=df_short.total_price, ax = ax[1])"
   ]
  },
  {
   "cell_type": "code",
   "execution_count": 135,
   "metadata": {},
   "outputs": [
    {
     "data": {
      "text/plain": [
       "6859"
      ]
     },
     "execution_count": 135,
     "metadata": {},
     "output_type": "execute_result"
    }
   ],
   "source": [
    "sorted_unit = sorted(df_short.unit_price)\n",
    "len(sorted_unit)"
   ]
  },
  {
   "cell_type": "code",
   "execution_count": 145,
   "metadata": {},
   "outputs": [
    {
     "data": {
      "text/html": [
       "<div>\n",
       "<style scoped>\n",
       "    .dataframe tbody tr th:only-of-type {\n",
       "        vertical-align: middle;\n",
       "    }\n",
       "\n",
       "    .dataframe tbody tr th {\n",
       "        vertical-align: top;\n",
       "    }\n",
       "\n",
       "    .dataframe thead th {\n",
       "        text-align: right;\n",
       "    }\n",
       "</style>\n",
       "<table border=\"1\" class=\"dataframe\">\n",
       "  <thead>\n",
       "    <tr style=\"text-align: right;\">\n",
       "      <th></th>\n",
       "      <th>p_name</th>\n",
       "      <th>unit_price</th>\n",
       "      <th>YEAR</th>\n",
       "      <th>MONTH</th>\n",
       "      <th>DAY</th>\n",
       "      <th>HOUR</th>\n",
       "      <th>MINUTE</th>\n",
       "      <th>DAY_NUM</th>\n",
       "      <th>exp_min</th>\n",
       "      <th>total_price</th>\n",
       "      <th>sales</th>\n",
       "      <th>broadcast</th>\n",
       "      <th>p_group</th>\n",
       "    </tr>\n",
       "    <tr>\n",
       "      <th>code2</th>\n",
       "      <th></th>\n",
       "      <th></th>\n",
       "      <th></th>\n",
       "      <th></th>\n",
       "      <th></th>\n",
       "      <th></th>\n",
       "      <th></th>\n",
       "      <th></th>\n",
       "      <th></th>\n",
       "      <th></th>\n",
       "      <th></th>\n",
       "      <th></th>\n",
       "      <th></th>\n",
       "    </tr>\n",
       "  </thead>\n",
       "  <tbody>\n",
       "    <tr>\n",
       "      <th>2684</th>\n",
       "      <td>보코 썸머 풀코디 2종</td>\n",
       "      <td>2.900000e+04</td>\n",
       "      <td>2019</td>\n",
       "      <td>5</td>\n",
       "      <td>21</td>\n",
       "      <td>14</td>\n",
       "      <td>0</td>\n",
       "      <td>2</td>\n",
       "      <td>60.000000</td>\n",
       "      <td>57755000</td>\n",
       "      <td>1992</td>\n",
       "      <td>2019-05-21 14:00:00</td>\n",
       "      <td>0</td>\n",
       "    </tr>\n",
       "    <tr>\n",
       "      <th>4570</th>\n",
       "      <td>NNF SS트레이닝 세트(8월)</td>\n",
       "      <td>2.900000e+04</td>\n",
       "      <td>2019</td>\n",
       "      <td>8</td>\n",
       "      <td>28</td>\n",
       "      <td>9</td>\n",
       "      <td>0</td>\n",
       "      <td>3</td>\n",
       "      <td>60.000000</td>\n",
       "      <td>122214000</td>\n",
       "      <td>4214</td>\n",
       "      <td>2019-08-28 09:00:00</td>\n",
       "      <td>0</td>\n",
       "    </tr>\n",
       "    <tr>\n",
       "      <th>3616</th>\n",
       "      <td>오델로 여성 모자 3종</td>\n",
       "      <td>2.900000e+04</td>\n",
       "      <td>2019</td>\n",
       "      <td>7</td>\n",
       "      <td>9</td>\n",
       "      <td>7</td>\n",
       "      <td>0</td>\n",
       "      <td>2</td>\n",
       "      <td>60.000000</td>\n",
       "      <td>109712000</td>\n",
       "      <td>3782</td>\n",
       "      <td>2019-07-09 07:00:00</td>\n",
       "      <td>0</td>\n",
       "    </tr>\n",
       "    <tr>\n",
       "      <th>4580</th>\n",
       "      <td>NNF SS트레이닝 세트(8월)</td>\n",
       "      <td>2.900000e+04</td>\n",
       "      <td>2019</td>\n",
       "      <td>8</td>\n",
       "      <td>28</td>\n",
       "      <td>19</td>\n",
       "      <td>0</td>\n",
       "      <td>3</td>\n",
       "      <td>60.000000</td>\n",
       "      <td>92370000</td>\n",
       "      <td>3185</td>\n",
       "      <td>2019-08-28 19:00:00</td>\n",
       "      <td>0</td>\n",
       "    </tr>\n",
       "    <tr>\n",
       "      <th>4173</th>\n",
       "      <td>AAD 소가죽 투웨이 샌들</td>\n",
       "      <td>2.900000e+04</td>\n",
       "      <td>2019</td>\n",
       "      <td>8</td>\n",
       "      <td>7</td>\n",
       "      <td>9</td>\n",
       "      <td>0</td>\n",
       "      <td>3</td>\n",
       "      <td>60.000000</td>\n",
       "      <td>92695000</td>\n",
       "      <td>3196</td>\n",
       "      <td>2019-08-07 09:00:00</td>\n",
       "      <td>0</td>\n",
       "    </tr>\n",
       "    <tr>\n",
       "      <th>...</th>\n",
       "      <td>...</td>\n",
       "      <td>...</td>\n",
       "      <td>...</td>\n",
       "      <td>...</td>\n",
       "      <td>...</td>\n",
       "      <td>...</td>\n",
       "      <td>...</td>\n",
       "      <td>...</td>\n",
       "      <td>...</td>\n",
       "      <td>...</td>\n",
       "      <td>...</td>\n",
       "      <td>...</td>\n",
       "      <td>...</td>\n",
       "    </tr>\n",
       "    <tr>\n",
       "      <th>5985</th>\n",
       "      <td>(일)이누스바스 시공패키지</td>\n",
       "      <td>2.831000e+06</td>\n",
       "      <td>2019</td>\n",
       "      <td>11</td>\n",
       "      <td>12</td>\n",
       "      <td>1</td>\n",
       "      <td>40</td>\n",
       "      <td>2</td>\n",
       "      <td>37.166667</td>\n",
       "      <td>20132000</td>\n",
       "      <td>7</td>\n",
       "      <td>2019-11-12 01:40:00</td>\n",
       "      <td>0</td>\n",
       "    </tr>\n",
       "    <tr>\n",
       "      <th>2673</th>\n",
       "      <td>일)이누스바스 시공패키지</td>\n",
       "      <td>2.992500e+06</td>\n",
       "      <td>2019</td>\n",
       "      <td>5</td>\n",
       "      <td>20</td>\n",
       "      <td>23</td>\n",
       "      <td>0</td>\n",
       "      <td>1</td>\n",
       "      <td>60.000000</td>\n",
       "      <td>110135000</td>\n",
       "      <td>39</td>\n",
       "      <td>2019-05-20 23:00:00</td>\n",
       "      <td>0</td>\n",
       "    </tr>\n",
       "    <tr>\n",
       "      <th>3079</th>\n",
       "      <td>일)이누스바스 시공패키지</td>\n",
       "      <td>3.045000e+06</td>\n",
       "      <td>2019</td>\n",
       "      <td>6</td>\n",
       "      <td>10</td>\n",
       "      <td>0</td>\n",
       "      <td>20</td>\n",
       "      <td>1</td>\n",
       "      <td>40.000000</td>\n",
       "      <td>37088000</td>\n",
       "      <td>13</td>\n",
       "      <td>2019-06-10 00:20:00</td>\n",
       "      <td>0</td>\n",
       "    </tr>\n",
       "    <tr>\n",
       "      <th>1839</th>\n",
       "      <td>일)한샘 하이바스 내추럴 기본형 + 키큰장</td>\n",
       "      <td>3.369000e+06</td>\n",
       "      <td>2019</td>\n",
       "      <td>4</td>\n",
       "      <td>5</td>\n",
       "      <td>20</td>\n",
       "      <td>0</td>\n",
       "      <td>5</td>\n",
       "      <td>60.000000</td>\n",
       "      <td>107725000</td>\n",
       "      <td>32</td>\n",
       "      <td>2019-04-05 20:00:00</td>\n",
       "      <td>0</td>\n",
       "    </tr>\n",
       "    <tr>\n",
       "      <th>1603</th>\n",
       "      <td>일)한샘 하이바스 내추럴 하부장형</td>\n",
       "      <td>3.407571e+06</td>\n",
       "      <td>2019</td>\n",
       "      <td>3</td>\n",
       "      <td>24</td>\n",
       "      <td>19</td>\n",
       "      <td>20</td>\n",
       "      <td>7</td>\n",
       "      <td>60.000000</td>\n",
       "      <td>103358000</td>\n",
       "      <td>30</td>\n",
       "      <td>2019-03-24 19:20:00</td>\n",
       "      <td>0</td>\n",
       "    </tr>\n",
       "  </tbody>\n",
       "</table>\n",
       "<p>6859 rows × 13 columns</p>\n",
       "</div>"
      ],
      "text/plain": [
       "                        p_name    unit_price  YEAR  MONTH  DAY  HOUR  MINUTE  \\\n",
       "code2                                                                          \n",
       "2684              보코 썸머 풀코디 2종  2.900000e+04  2019      5   21    14       0   \n",
       "4570         NNF SS트레이닝 세트(8월)  2.900000e+04  2019      8   28     9       0   \n",
       "3616              오델로 여성 모자 3종  2.900000e+04  2019      7    9     7       0   \n",
       "4580         NNF SS트레이닝 세트(8월)  2.900000e+04  2019      8   28    19       0   \n",
       "4173            AAD 소가죽 투웨이 샌들  2.900000e+04  2019      8    7     9       0   \n",
       "...                        ...           ...   ...    ...  ...   ...     ...   \n",
       "5985            (일)이누스바스 시공패키지  2.831000e+06  2019     11   12     1      40   \n",
       "2673             일)이누스바스 시공패키지  2.992500e+06  2019      5   20    23       0   \n",
       "3079             일)이누스바스 시공패키지  3.045000e+06  2019      6   10     0      20   \n",
       "1839   일)한샘 하이바스 내추럴 기본형 + 키큰장  3.369000e+06  2019      4    5    20       0   \n",
       "1603        일)한샘 하이바스 내추럴 하부장형  3.407571e+06  2019      3   24    19      20   \n",
       "\n",
       "       DAY_NUM    exp_min  total_price  sales           broadcast  p_group  \n",
       "code2                                                                       \n",
       "2684         2  60.000000     57755000   1992 2019-05-21 14:00:00        0  \n",
       "4570         3  60.000000    122214000   4214 2019-08-28 09:00:00        0  \n",
       "3616         2  60.000000    109712000   3782 2019-07-09 07:00:00        0  \n",
       "4580         3  60.000000     92370000   3185 2019-08-28 19:00:00        0  \n",
       "4173         3  60.000000     92695000   3196 2019-08-07 09:00:00        0  \n",
       "...        ...        ...          ...    ...                 ...      ...  \n",
       "5985         2  37.166667     20132000      7 2019-11-12 01:40:00        0  \n",
       "2673         1  60.000000    110135000     39 2019-05-20 23:00:00        0  \n",
       "3079         1  40.000000     37088000     13 2019-06-10 00:20:00        0  \n",
       "1839         5  60.000000    107725000     32 2019-04-05 20:00:00        0  \n",
       "1603         7  60.000000    103358000     30 2019-03-24 19:20:00        0  \n",
       "\n",
       "[6859 rows x 13 columns]"
      ]
     },
     "execution_count": 145,
     "metadata": {},
     "output_type": "execute_result"
    }
   ],
   "source": [
    "df_short.sort_values('unit_price')"
   ]
  },
  {
   "cell_type": "code",
   "execution_count": 59,
   "metadata": {},
   "outputs": [
    {
     "name": "stdout",
     "output_type": "stream",
     "text": [
      "1371.2 2742.4 4113.6 5484.8 6856.0\n"
     ]
    }
   ],
   "source": [
    "print(6856/5,6856/5*2,6856/5*3,6856/5*4,6856/5*5)"
   ]
  },
  {
   "cell_type": "code",
   "execution_count": 137,
   "metadata": {},
   "outputs": [
    {
     "data": {
      "text/plain": [
       "array([   0.        ,  761.77777778, 1523.55555556, 2285.33333333,\n",
       "       3047.11111111, 3808.88888889, 4570.66666667, 5332.44444444,\n",
       "       6094.22222222, 6856.        ])"
      ]
     },
     "execution_count": 137,
     "metadata": {},
     "output_type": "execute_result"
    }
   ],
   "source": [
    "np.linspace(0,6856,10)"
   ]
  },
  {
   "cell_type": "code",
   "execution_count": 76,
   "metadata": {},
   "outputs": [],
   "source": [
    "d1,d2,d3,d4,d5,_ = np.split(sorted_sales,[1372,1372*2,1372*3,1372*4,(1372*5)-1])"
   ]
  },
  {
   "cell_type": "code",
   "execution_count": 114,
   "metadata": {
    "collapsed": true
   },
   "outputs": [
    {
     "ename": "KeyError",
     "evalue": "'Passing list-likes to .loc or [] with any missing labels is no longer supported, see https://pandas.pydata.org/pandas-docs/stable/user_guide/indexing.html#deprecate-loc-reindex-listlike'",
     "output_type": "error",
     "traceback": [
      "\u001b[1;31m---------------------------------------------------------------------------\u001b[0m",
      "\u001b[1;31mKeyError\u001b[0m                                  Traceback (most recent call last)",
      "\u001b[1;32m<ipython-input-114-5e3a133ebe83>\u001b[0m in \u001b[0;36m<module>\u001b[1;34m\u001b[0m\n\u001b[0;32m      5\u001b[0m \u001b[0msns\u001b[0m\u001b[1;33m.\u001b[0m\u001b[0mboxplot\u001b[0m\u001b[1;33m(\u001b[0m\u001b[0my\u001b[0m\u001b[1;33m=\u001b[0m\u001b[0mdf_short\u001b[0m\u001b[1;33m.\u001b[0m\u001b[0mtotal_price\u001b[0m\u001b[1;33m[\u001b[0m\u001b[0md3\u001b[0m\u001b[1;33m]\u001b[0m\u001b[1;33m,\u001b[0m \u001b[0mdata\u001b[0m\u001b[1;33m=\u001b[0m\u001b[0mdf_short\u001b[0m\u001b[1;33m,\u001b[0m\u001b[0max\u001b[0m\u001b[1;33m=\u001b[0m\u001b[0maxes\u001b[0m\u001b[1;33m[\u001b[0m\u001b[1;36m2\u001b[0m\u001b[1;33m]\u001b[0m\u001b[1;33m)\u001b[0m\u001b[1;33m\u001b[0m\u001b[1;33m\u001b[0m\u001b[0m\n\u001b[0;32m      6\u001b[0m \u001b[0msns\u001b[0m\u001b[1;33m.\u001b[0m\u001b[0mboxplot\u001b[0m\u001b[1;33m(\u001b[0m\u001b[0my\u001b[0m\u001b[1;33m=\u001b[0m\u001b[0mdf_short\u001b[0m\u001b[1;33m.\u001b[0m\u001b[0mtotal_price\u001b[0m\u001b[1;33m[\u001b[0m\u001b[0md4\u001b[0m\u001b[1;33m]\u001b[0m\u001b[1;33m,\u001b[0m \u001b[0mdata\u001b[0m\u001b[1;33m=\u001b[0m\u001b[0mdf_short\u001b[0m\u001b[1;33m,\u001b[0m\u001b[0max\u001b[0m\u001b[1;33m=\u001b[0m\u001b[0maxes\u001b[0m\u001b[1;33m[\u001b[0m\u001b[1;36m3\u001b[0m\u001b[1;33m]\u001b[0m\u001b[1;33m)\u001b[0m\u001b[1;33m\u001b[0m\u001b[1;33m\u001b[0m\u001b[0m\n\u001b[1;32m----> 7\u001b[1;33m \u001b[0msns\u001b[0m\u001b[1;33m.\u001b[0m\u001b[0mboxplot\u001b[0m\u001b[1;33m(\u001b[0m\u001b[0my\u001b[0m\u001b[1;33m=\u001b[0m\u001b[0mdf_short\u001b[0m\u001b[1;33m.\u001b[0m\u001b[0mtotal_price\u001b[0m\u001b[1;33m[\u001b[0m\u001b[0md5\u001b[0m\u001b[1;33m]\u001b[0m\u001b[1;33m,\u001b[0m \u001b[0mdata\u001b[0m\u001b[1;33m=\u001b[0m\u001b[0mdf_short\u001b[0m\u001b[1;33m,\u001b[0m\u001b[0max\u001b[0m\u001b[1;33m=\u001b[0m\u001b[0maxes\u001b[0m\u001b[1;33m[\u001b[0m\u001b[1;36m4\u001b[0m\u001b[1;33m]\u001b[0m\u001b[1;33m)\u001b[0m\u001b[1;33m\u001b[0m\u001b[1;33m\u001b[0m\u001b[0m\n\u001b[0m",
      "\u001b[1;32m~\\anaconda3\\envs\\mulcam\\lib\\site-packages\\pandas\\core\\series.py\u001b[0m in \u001b[0;36m__getitem__\u001b[1;34m(self, key)\u001b[0m\n\u001b[0;32m    908\u001b[0m             \u001b[0mkey\u001b[0m \u001b[1;33m=\u001b[0m \u001b[0mcheck_bool_indexer\u001b[0m\u001b[1;33m(\u001b[0m\u001b[0mself\u001b[0m\u001b[1;33m.\u001b[0m\u001b[0mindex\u001b[0m\u001b[1;33m,\u001b[0m \u001b[0mkey\u001b[0m\u001b[1;33m)\u001b[0m\u001b[1;33m\u001b[0m\u001b[1;33m\u001b[0m\u001b[0m\n\u001b[0;32m    909\u001b[0m \u001b[1;33m\u001b[0m\u001b[0m\n\u001b[1;32m--> 910\u001b[1;33m         \u001b[1;32mreturn\u001b[0m \u001b[0mself\u001b[0m\u001b[1;33m.\u001b[0m\u001b[0m_get_with\u001b[0m\u001b[1;33m(\u001b[0m\u001b[0mkey\u001b[0m\u001b[1;33m)\u001b[0m\u001b[1;33m\u001b[0m\u001b[1;33m\u001b[0m\u001b[0m\n\u001b[0m\u001b[0;32m    911\u001b[0m \u001b[1;33m\u001b[0m\u001b[0m\n\u001b[0;32m    912\u001b[0m     \u001b[1;32mdef\u001b[0m \u001b[0m_get_with\u001b[0m\u001b[1;33m(\u001b[0m\u001b[0mself\u001b[0m\u001b[1;33m,\u001b[0m \u001b[0mkey\u001b[0m\u001b[1;33m)\u001b[0m\u001b[1;33m:\u001b[0m\u001b[1;33m\u001b[0m\u001b[1;33m\u001b[0m\u001b[0m\n",
      "\u001b[1;32m~\\anaconda3\\envs\\mulcam\\lib\\site-packages\\pandas\\core\\series.py\u001b[0m in \u001b[0;36m_get_with\u001b[1;34m(self, key)\u001b[0m\n\u001b[0;32m    941\u001b[0m         \u001b[1;32mif\u001b[0m \u001b[0mkey_type\u001b[0m \u001b[1;33m==\u001b[0m \u001b[1;34m\"integer\"\u001b[0m\u001b[1;33m:\u001b[0m\u001b[1;33m\u001b[0m\u001b[1;33m\u001b[0m\u001b[0m\n\u001b[0;32m    942\u001b[0m             \u001b[1;32mif\u001b[0m \u001b[0mself\u001b[0m\u001b[1;33m.\u001b[0m\u001b[0mindex\u001b[0m\u001b[1;33m.\u001b[0m\u001b[0mis_integer\u001b[0m\u001b[1;33m(\u001b[0m\u001b[1;33m)\u001b[0m \u001b[1;32mor\u001b[0m \u001b[0mself\u001b[0m\u001b[1;33m.\u001b[0m\u001b[0mindex\u001b[0m\u001b[1;33m.\u001b[0m\u001b[0mis_floating\u001b[0m\u001b[1;33m(\u001b[0m\u001b[1;33m)\u001b[0m\u001b[1;33m:\u001b[0m\u001b[1;33m\u001b[0m\u001b[1;33m\u001b[0m\u001b[0m\n\u001b[1;32m--> 943\u001b[1;33m                 \u001b[1;32mreturn\u001b[0m \u001b[0mself\u001b[0m\u001b[1;33m.\u001b[0m\u001b[0mloc\u001b[0m\u001b[1;33m[\u001b[0m\u001b[0mkey\u001b[0m\u001b[1;33m]\u001b[0m\u001b[1;33m\u001b[0m\u001b[1;33m\u001b[0m\u001b[0m\n\u001b[0m\u001b[0;32m    944\u001b[0m             \u001b[1;32melse\u001b[0m\u001b[1;33m:\u001b[0m\u001b[1;33m\u001b[0m\u001b[1;33m\u001b[0m\u001b[0m\n\u001b[0;32m    945\u001b[0m                 \u001b[1;32mreturn\u001b[0m \u001b[0mself\u001b[0m\u001b[1;33m.\u001b[0m\u001b[0m_get_values\u001b[0m\u001b[1;33m(\u001b[0m\u001b[0mkey\u001b[0m\u001b[1;33m)\u001b[0m\u001b[1;33m\u001b[0m\u001b[1;33m\u001b[0m\u001b[0m\n",
      "\u001b[1;32m~\\anaconda3\\envs\\mulcam\\lib\\site-packages\\pandas\\core\\indexing.py\u001b[0m in \u001b[0;36m__getitem__\u001b[1;34m(self, key)\u001b[0m\n\u001b[0;32m   1766\u001b[0m \u001b[1;33m\u001b[0m\u001b[0m\n\u001b[0;32m   1767\u001b[0m             \u001b[0mmaybe_callable\u001b[0m \u001b[1;33m=\u001b[0m \u001b[0mcom\u001b[0m\u001b[1;33m.\u001b[0m\u001b[0mapply_if_callable\u001b[0m\u001b[1;33m(\u001b[0m\u001b[0mkey\u001b[0m\u001b[1;33m,\u001b[0m \u001b[0mself\u001b[0m\u001b[1;33m.\u001b[0m\u001b[0mobj\u001b[0m\u001b[1;33m)\u001b[0m\u001b[1;33m\u001b[0m\u001b[1;33m\u001b[0m\u001b[0m\n\u001b[1;32m-> 1768\u001b[1;33m             \u001b[1;32mreturn\u001b[0m \u001b[0mself\u001b[0m\u001b[1;33m.\u001b[0m\u001b[0m_getitem_axis\u001b[0m\u001b[1;33m(\u001b[0m\u001b[0mmaybe_callable\u001b[0m\u001b[1;33m,\u001b[0m \u001b[0maxis\u001b[0m\u001b[1;33m=\u001b[0m\u001b[0maxis\u001b[0m\u001b[1;33m)\u001b[0m\u001b[1;33m\u001b[0m\u001b[1;33m\u001b[0m\u001b[0m\n\u001b[0m\u001b[0;32m   1769\u001b[0m \u001b[1;33m\u001b[0m\u001b[0m\n\u001b[0;32m   1770\u001b[0m     \u001b[1;32mdef\u001b[0m \u001b[0m_is_scalar_access\u001b[0m\u001b[1;33m(\u001b[0m\u001b[0mself\u001b[0m\u001b[1;33m,\u001b[0m \u001b[0mkey\u001b[0m\u001b[1;33m:\u001b[0m \u001b[0mTuple\u001b[0m\u001b[1;33m)\u001b[0m\u001b[1;33m:\u001b[0m\u001b[1;33m\u001b[0m\u001b[1;33m\u001b[0m\u001b[0m\n",
      "\u001b[1;32m~\\anaconda3\\envs\\mulcam\\lib\\site-packages\\pandas\\core\\indexing.py\u001b[0m in \u001b[0;36m_getitem_axis\u001b[1;34m(self, key, axis)\u001b[0m\n\u001b[0;32m   1952\u001b[0m                     \u001b[1;32mraise\u001b[0m \u001b[0mValueError\u001b[0m\u001b[1;33m(\u001b[0m\u001b[1;34m\"Cannot index with multidimensional key\"\u001b[0m\u001b[1;33m)\u001b[0m\u001b[1;33m\u001b[0m\u001b[1;33m\u001b[0m\u001b[0m\n\u001b[0;32m   1953\u001b[0m \u001b[1;33m\u001b[0m\u001b[0m\n\u001b[1;32m-> 1954\u001b[1;33m                 \u001b[1;32mreturn\u001b[0m \u001b[0mself\u001b[0m\u001b[1;33m.\u001b[0m\u001b[0m_getitem_iterable\u001b[0m\u001b[1;33m(\u001b[0m\u001b[0mkey\u001b[0m\u001b[1;33m,\u001b[0m \u001b[0maxis\u001b[0m\u001b[1;33m=\u001b[0m\u001b[0maxis\u001b[0m\u001b[1;33m)\u001b[0m\u001b[1;33m\u001b[0m\u001b[1;33m\u001b[0m\u001b[0m\n\u001b[0m\u001b[0;32m   1955\u001b[0m \u001b[1;33m\u001b[0m\u001b[0m\n\u001b[0;32m   1956\u001b[0m             \u001b[1;31m# nested tuple slicing\u001b[0m\u001b[1;33m\u001b[0m\u001b[1;33m\u001b[0m\u001b[1;33m\u001b[0m\u001b[0m\n",
      "\u001b[1;32m~\\anaconda3\\envs\\mulcam\\lib\\site-packages\\pandas\\core\\indexing.py\u001b[0m in \u001b[0;36m_getitem_iterable\u001b[1;34m(self, key, axis)\u001b[0m\n\u001b[0;32m   1593\u001b[0m         \u001b[1;32melse\u001b[0m\u001b[1;33m:\u001b[0m\u001b[1;33m\u001b[0m\u001b[1;33m\u001b[0m\u001b[0m\n\u001b[0;32m   1594\u001b[0m             \u001b[1;31m# A collection of keys\u001b[0m\u001b[1;33m\u001b[0m\u001b[1;33m\u001b[0m\u001b[1;33m\u001b[0m\u001b[0m\n\u001b[1;32m-> 1595\u001b[1;33m             \u001b[0mkeyarr\u001b[0m\u001b[1;33m,\u001b[0m \u001b[0mindexer\u001b[0m \u001b[1;33m=\u001b[0m \u001b[0mself\u001b[0m\u001b[1;33m.\u001b[0m\u001b[0m_get_listlike_indexer\u001b[0m\u001b[1;33m(\u001b[0m\u001b[0mkey\u001b[0m\u001b[1;33m,\u001b[0m \u001b[0maxis\u001b[0m\u001b[1;33m,\u001b[0m \u001b[0mraise_missing\u001b[0m\u001b[1;33m=\u001b[0m\u001b[1;32mFalse\u001b[0m\u001b[1;33m)\u001b[0m\u001b[1;33m\u001b[0m\u001b[1;33m\u001b[0m\u001b[0m\n\u001b[0m\u001b[0;32m   1596\u001b[0m             return self.obj._reindex_with_indexers(\n\u001b[0;32m   1597\u001b[0m                 \u001b[1;33m{\u001b[0m\u001b[0maxis\u001b[0m\u001b[1;33m:\u001b[0m \u001b[1;33m[\u001b[0m\u001b[0mkeyarr\u001b[0m\u001b[1;33m,\u001b[0m \u001b[0mindexer\u001b[0m\u001b[1;33m]\u001b[0m\u001b[1;33m}\u001b[0m\u001b[1;33m,\u001b[0m \u001b[0mcopy\u001b[0m\u001b[1;33m=\u001b[0m\u001b[1;32mTrue\u001b[0m\u001b[1;33m,\u001b[0m \u001b[0mallow_dups\u001b[0m\u001b[1;33m=\u001b[0m\u001b[1;32mTrue\u001b[0m\u001b[1;33m\u001b[0m\u001b[1;33m\u001b[0m\u001b[0m\n",
      "\u001b[1;32m~\\anaconda3\\envs\\mulcam\\lib\\site-packages\\pandas\\core\\indexing.py\u001b[0m in \u001b[0;36m_get_listlike_indexer\u001b[1;34m(self, key, axis, raise_missing)\u001b[0m\n\u001b[0;32m   1551\u001b[0m \u001b[1;33m\u001b[0m\u001b[0m\n\u001b[0;32m   1552\u001b[0m         self._validate_read_indexer(\n\u001b[1;32m-> 1553\u001b[1;33m             \u001b[0mkeyarr\u001b[0m\u001b[1;33m,\u001b[0m \u001b[0mindexer\u001b[0m\u001b[1;33m,\u001b[0m \u001b[0mo\u001b[0m\u001b[1;33m.\u001b[0m\u001b[0m_get_axis_number\u001b[0m\u001b[1;33m(\u001b[0m\u001b[0maxis\u001b[0m\u001b[1;33m)\u001b[0m\u001b[1;33m,\u001b[0m \u001b[0mraise_missing\u001b[0m\u001b[1;33m=\u001b[0m\u001b[0mraise_missing\u001b[0m\u001b[1;33m\u001b[0m\u001b[1;33m\u001b[0m\u001b[0m\n\u001b[0m\u001b[0;32m   1554\u001b[0m         )\n\u001b[0;32m   1555\u001b[0m         \u001b[1;32mreturn\u001b[0m \u001b[0mkeyarr\u001b[0m\u001b[1;33m,\u001b[0m \u001b[0mindexer\u001b[0m\u001b[1;33m\u001b[0m\u001b[1;33m\u001b[0m\u001b[0m\n",
      "\u001b[1;32m~\\anaconda3\\envs\\mulcam\\lib\\site-packages\\pandas\\core\\indexing.py\u001b[0m in \u001b[0;36m_validate_read_indexer\u001b[1;34m(self, key, indexer, axis, raise_missing)\u001b[0m\n\u001b[0;32m   1653\u001b[0m             \u001b[1;32mif\u001b[0m \u001b[1;32mnot\u001b[0m \u001b[1;33m(\u001b[0m\u001b[0max\u001b[0m\u001b[1;33m.\u001b[0m\u001b[0mis_categorical\u001b[0m\u001b[1;33m(\u001b[0m\u001b[1;33m)\u001b[0m \u001b[1;32mor\u001b[0m \u001b[0max\u001b[0m\u001b[1;33m.\u001b[0m\u001b[0mis_interval\u001b[0m\u001b[1;33m(\u001b[0m\u001b[1;33m)\u001b[0m\u001b[1;33m)\u001b[0m\u001b[1;33m:\u001b[0m\u001b[1;33m\u001b[0m\u001b[1;33m\u001b[0m\u001b[0m\n\u001b[0;32m   1654\u001b[0m                 raise KeyError(\n\u001b[1;32m-> 1655\u001b[1;33m                     \u001b[1;34m\"Passing list-likes to .loc or [] with any missing labels \"\u001b[0m\u001b[1;33m\u001b[0m\u001b[1;33m\u001b[0m\u001b[0m\n\u001b[0m\u001b[0;32m   1656\u001b[0m                     \u001b[1;34m\"is no longer supported, see \"\u001b[0m\u001b[1;33m\u001b[0m\u001b[1;33m\u001b[0m\u001b[0m\n\u001b[0;32m   1657\u001b[0m                     \u001b[1;34m\"https://pandas.pydata.org/pandas-docs/stable/user_guide/indexing.html#deprecate-loc-reindex-listlike\"\u001b[0m  \u001b[1;31m# noqa:E501\u001b[0m\u001b[1;33m\u001b[0m\u001b[1;33m\u001b[0m\u001b[0m\n",
      "\u001b[1;31mKeyError\u001b[0m: 'Passing list-likes to .loc or [] with any missing labels is no longer supported, see https://pandas.pydata.org/pandas-docs/stable/user_guide/indexing.html#deprecate-loc-reindex-listlike'"
     ]
    },
    {
     "data": {
      "image/png": "[encoded data removed]",
      "text/plain": [
       "<Figure size 864x288 with 5 Axes>"
      ]
     },
     "metadata": {},
     "output_type": "display_data"
    }
   ],
   "source": [
    "fig, axes = plt.subplots(1,5, figsize=(12,4))\n",
    "\n",
    "sns.boxplot(y=df_short.total_price[d1], data=df_short,ax=axes[0])\n",
    "sns.boxplot(y=df_short.total_price[d2], data=df_short,ax=axes[1])\n",
    "sns.boxplot(y=df_short.total_price[d3], data=df_short,ax=axes[2])\n",
    "sns.boxplot(y=df_short.total_price[d4], data=df_short,ax=axes[3])\n",
    "sns.boxplot(y=df_short.total_price[d5], data=df_short,ax=axes[4])"
   ]
  },
  {
   "cell_type": "code",
   "execution_count": 130,
   "metadata": {},
   "outputs": [
    {
     "data": {
      "text/plain": [
       "array([2530, 2530, 2531, ..., 9364, 9372, 9937])"
      ]
     },
     "execution_count": 130,
     "metadata": {},
     "output_type": "execute_result"
    }
   ],
   "source": [
    "d5"
   ]
  },
  {
   "cell_type": "code",
   "execution_count": 119,
   "metadata": {},
   "outputs": [
    {
     "data": {
      "text/plain": [
       "code2\n",
       "1632     71148000\n",
       "1633     99461000\n",
       "1633     99461000\n",
       "1634    101201000\n",
       "1634    101201000\n",
       "          ...    \n",
       "2528     25205000\n",
       "2528     25205000\n",
       "2528     25205000\n",
       "2528     25205000\n",
       "2529     49128000\n",
       "Name: total_price, Length: 1372, dtype: int64"
      ]
     },
     "execution_count": 119,
     "metadata": {},
     "output_type": "execute_result"
    }
   ],
   "source": [
    "df_short.total_price[d4]"
   ]
  },
  {
   "cell_type": "code",
   "execution_count": 120,
   "metadata": {},
   "outputs": [
    {
     "data": {
      "text/plain": [
       "array([2530, 2530, 2531, ..., 9364, 9372, 9937])"
      ]
     },
     "execution_count": 120,
     "metadata": {},
     "output_type": "execute_result"
    }
   ],
   "source": [
    "d5"
   ]
  },
  {
   "cell_type": "code",
   "execution_count": 128,
   "metadata": {},
   "outputs": [
    {
     "data": {
      "text/plain": [
       "code2\n",
       "0        32696000\n",
       "1        47878000\n",
       "2        99736000\n",
       "3        90973000\n",
       "4       259678000\n",
       "          ...    \n",
       "6854    201322000\n",
       "6855    102360000\n",
       "6856    191710000\n",
       "6857    222022000\n",
       "6858    268596000\n",
       "Name: total_price, Length: 6859, dtype: int64"
      ]
     },
     "execution_count": 128,
     "metadata": {},
     "output_type": "execute_result"
    }
   ],
   "source": [
    "df_short.total_price"
   ]
  },
  {
   "cell_type": "code",
   "execution_count": 129,
   "metadata": {},
   "outputs": [
    {
     "data": {
      "text/plain": [
       "268596000"
      ]
     },
     "execution_count": 129,
     "metadata": {},
     "output_type": "execute_result"
    }
   ],
   "source": [
    "df_short.total_price[6858]"
   ]
  },
  {
   "cell_type": "code",
   "execution_count": 98,
   "metadata": {},
   "outputs": [
    {
     "data": {
      "text/plain": [
       "<matplotlib.axes._subplots.AxesSubplot at 0x24c3ec15080>"
      ]
     },
     "execution_count": 98,
     "metadata": {},
     "output_type": "execute_result"
    },
    {
     "data": {
      "image/png": "[encoded data removed]",
      "text/plain": [
       "<Figure size 432x288 with 1 Axes>"
      ]
     },
     "metadata": {},
     "output_type": "display_data"
    }
   ],
   "source": [
    "sns.boxplot(y=df_short.total_price[d2], data=df_short)\n"
   ]
  },
  {
   "cell_type": "code",
   "execution_count": 131,
   "metadata": {},
   "outputs": [
    {
     "data": {
      "text/plain": [
       "code2\n",
       "4169       6\n",
       "5985       7\n",
       "4118      12\n",
       "3079      13\n",
       "3265      13\n",
       "        ... \n",
       "6183    8712\n",
       "6748    9178\n",
       "6293    9364\n",
       "6554    9372\n",
       "5941    9937\n",
       "Name: sales, Length: 6859, dtype: int64"
      ]
     },
     "execution_count": 131,
     "metadata": {},
     "output_type": "execute_result"
    }
   ],
   "source": [
    "df_short.sales.sort_values()"
   ]
  },
  {
   "cell_type": "code",
   "execution_count": null,
   "metadata": {},
   "outputs": [],
   "source": []
  }
 ],
 "metadata": {
  "colab": {
   "collapsed_sections": [],
   "name": "EDA.ipynb",
   "provenance": []
  },
  "kernelspec": {
   "display_name": "Python 3",
   "language": "python",
   "name": "python3"
  },
  "language_info": {
   "codemirror_mode": {
    "name": "ipython",
    "version": 3
   },
   "file_extension": ".py",
   "mimetype": "text/x-python",
   "name": "python",
   "nbconvert_exporter": "python",
   "pygments_lexer": "ipython3",
   "version": "3.6.10"
  }
 },
 "nbformat": 4,
 "nbformat_minor": 1
}
