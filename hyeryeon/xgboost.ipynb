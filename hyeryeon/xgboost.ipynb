{
 "cells": [
  {
   "cell_type": "code",
   "execution_count": 65,
   "metadata": {},
   "outputs": [],
   "source": [
    "from sklearn.model_selection import KFold, train_test_split\n",
    "from sklearn.metrics import mean_absolute_error\n",
    "from xgboost import XGBRegressor \n",
    "import pandas as pd\n",
    "import numpy as np\n",
    "from sklearn.metrics import accuracy_score\n",
    "from sklearn.model_selection import KFold, GridSearchCV"
   ]
  },
  {
   "cell_type": "code",
   "execution_count": 67,
   "metadata": {},
   "outputs": [],
   "source": [
    "df = pd.read_excel('c:/bc/base_line_hyeryeon_bomi.xlsx', header=0, sheet_name='original_data')"
   ]
  },
  {
   "cell_type": "code",
   "execution_count": 68,
   "metadata": {},
   "outputs": [],
   "source": [
    "df['p_group']=pd.Categorical(df['p_group']).codes"
   ]
  },
  {
   "cell_type": "code",
   "execution_count": 69,
   "metadata": {},
   "outputs": [],
   "source": [
    "del df['p_name']\n",
    "del df['exp_min']\n",
    "del df['YEAR_DAY']"
   ]
  },
  {
   "cell_type": "code",
   "execution_count": 72,
   "metadata": {},
   "outputs": [],
   "source": [
    "del df['DAY_NAME']\n",
    "del df['no']\n",
    "del df['brand_name']"
   ]
  },
  {
   "cell_type": "code",
   "execution_count": 76,
   "metadata": {},
   "outputs": [],
   "source": [
    "del df['total_price']\n",
    "del df['broadcast']\n",
    "del df['Unnamed: 0']"
   ]
  },
  {
   "cell_type": "code",
   "execution_count": 75,
   "metadata": {},
   "outputs": [
    {
     "data": {
      "text/plain": [
       "array([  2099000,   4371000,   3262000, ...,  50929000, 104392000,\n",
       "        46608000], dtype=int64)"
      ]
     },
     "execution_count": 75,
     "metadata": {},
     "output_type": "execute_result"
    }
   ],
   "source": [
    "Y = np.array(df['total_price'])\n",
    "Y"
   ]
  },
  {
   "cell_type": "code",
   "execution_count": 78,
   "metadata": {
    "scrolled": false
   },
   "outputs": [],
   "source": [
    "X = df"
   ]
  },
  {
   "cell_type": "code",
   "execution_count": 80,
   "metadata": {},
   "outputs": [
    {
     "data": {
      "text/html": [
       "<div>\n",
       "<style scoped>\n",
       "    .dataframe tbody tr th:only-of-type {\n",
       "        vertical-align: middle;\n",
       "    }\n",
       "\n",
       "    .dataframe tbody tr th {\n",
       "        vertical-align: top;\n",
       "    }\n",
       "\n",
       "    .dataframe thead th {\n",
       "        text-align: right;\n",
       "    }\n",
       "</style>\n",
       "<table border=\"1\" class=\"dataframe\">\n",
       "  <thead>\n",
       "    <tr style=\"text-align: right;\">\n",
       "      <th></th>\n",
       "      <th>m_code</th>\n",
       "      <th>p_code</th>\n",
       "      <th>p_group</th>\n",
       "      <th>unit_price</th>\n",
       "      <th>sales</th>\n",
       "      <th>YEAR</th>\n",
       "      <th>MONTH</th>\n",
       "      <th>DAY</th>\n",
       "      <th>HOUR</th>\n",
       "      <th>MINUTE</th>\n",
       "      <th>...</th>\n",
       "      <th>code</th>\n",
       "      <th>day_of_week_and_hour</th>\n",
       "      <th>52_week</th>\n",
       "      <th>holiday</th>\n",
       "      <th>brand_power</th>\n",
       "      <th>mask</th>\n",
       "      <th>parcel</th>\n",
       "      <th>rain</th>\n",
       "      <th>humidity</th>\n",
       "      <th>sunshine</th>\n",
       "    </tr>\n",
       "  </thead>\n",
       "  <tbody>\n",
       "    <tr>\n",
       "      <th>0</th>\n",
       "      <td>100346</td>\n",
       "      <td>201072</td>\n",
       "      <td>6</td>\n",
       "      <td>39900</td>\n",
       "      <td>53</td>\n",
       "      <td>2019</td>\n",
       "      <td>1</td>\n",
       "      <td>1</td>\n",
       "      <td>6</td>\n",
       "      <td>0</td>\n",
       "      <td>...</td>\n",
       "      <td>0</td>\n",
       "      <td>30</td>\n",
       "      <td>1</td>\n",
       "      <td>1</td>\n",
       "      <td>16.386845</td>\n",
       "      <td>0.04095</td>\n",
       "      <td>0.52582</td>\n",
       "      <td>0.0</td>\n",
       "      <td>60.0</td>\n",
       "      <td>0.0</td>\n",
       "    </tr>\n",
       "    <tr>\n",
       "      <th>1</th>\n",
       "      <td>100346</td>\n",
       "      <td>201079</td>\n",
       "      <td>6</td>\n",
       "      <td>39900</td>\n",
       "      <td>110</td>\n",
       "      <td>2019</td>\n",
       "      <td>1</td>\n",
       "      <td>1</td>\n",
       "      <td>6</td>\n",
       "      <td>0</td>\n",
       "      <td>...</td>\n",
       "      <td>0</td>\n",
       "      <td>30</td>\n",
       "      <td>1</td>\n",
       "      <td>1</td>\n",
       "      <td>16.386845</td>\n",
       "      <td>0.04095</td>\n",
       "      <td>0.52582</td>\n",
       "      <td>0.0</td>\n",
       "      <td>60.0</td>\n",
       "      <td>0.0</td>\n",
       "    </tr>\n",
       "    <tr>\n",
       "      <th>2</th>\n",
       "      <td>100346</td>\n",
       "      <td>201072</td>\n",
       "      <td>6</td>\n",
       "      <td>39900</td>\n",
       "      <td>82</td>\n",
       "      <td>2019</td>\n",
       "      <td>1</td>\n",
       "      <td>1</td>\n",
       "      <td>6</td>\n",
       "      <td>20</td>\n",
       "      <td>...</td>\n",
       "      <td>0</td>\n",
       "      <td>30</td>\n",
       "      <td>1</td>\n",
       "      <td>1</td>\n",
       "      <td>16.386845</td>\n",
       "      <td>0.04095</td>\n",
       "      <td>0.52582</td>\n",
       "      <td>0.0</td>\n",
       "      <td>60.0</td>\n",
       "      <td>0.0</td>\n",
       "    </tr>\n",
       "    <tr>\n",
       "      <th>3</th>\n",
       "      <td>100346</td>\n",
       "      <td>201079</td>\n",
       "      <td>6</td>\n",
       "      <td>39900</td>\n",
       "      <td>174</td>\n",
       "      <td>2019</td>\n",
       "      <td>1</td>\n",
       "      <td>1</td>\n",
       "      <td>6</td>\n",
       "      <td>20</td>\n",
       "      <td>...</td>\n",
       "      <td>0</td>\n",
       "      <td>30</td>\n",
       "      <td>1</td>\n",
       "      <td>1</td>\n",
       "      <td>16.386845</td>\n",
       "      <td>0.04095</td>\n",
       "      <td>0.52582</td>\n",
       "      <td>0.0</td>\n",
       "      <td>60.0</td>\n",
       "      <td>0.0</td>\n",
       "    </tr>\n",
       "    <tr>\n",
       "      <th>4</th>\n",
       "      <td>100346</td>\n",
       "      <td>201072</td>\n",
       "      <td>6</td>\n",
       "      <td>39900</td>\n",
       "      <td>167</td>\n",
       "      <td>2019</td>\n",
       "      <td>1</td>\n",
       "      <td>1</td>\n",
       "      <td>6</td>\n",
       "      <td>40</td>\n",
       "      <td>...</td>\n",
       "      <td>0</td>\n",
       "      <td>30</td>\n",
       "      <td>1</td>\n",
       "      <td>1</td>\n",
       "      <td>16.386845</td>\n",
       "      <td>0.04095</td>\n",
       "      <td>0.52582</td>\n",
       "      <td>0.0</td>\n",
       "      <td>60.0</td>\n",
       "      <td>0.0</td>\n",
       "    </tr>\n",
       "    <tr>\n",
       "      <th>...</th>\n",
       "      <td>...</td>\n",
       "      <td>...</td>\n",
       "      <td>...</td>\n",
       "      <td>...</td>\n",
       "      <td>...</td>\n",
       "      <td>...</td>\n",
       "      <td>...</td>\n",
       "      <td>...</td>\n",
       "      <td>...</td>\n",
       "      <td>...</td>\n",
       "      <td>...</td>\n",
       "      <td>...</td>\n",
       "      <td>...</td>\n",
       "      <td>...</td>\n",
       "      <td>...</td>\n",
       "      <td>...</td>\n",
       "      <td>...</td>\n",
       "      <td>...</td>\n",
       "      <td>...</td>\n",
       "      <td>...</td>\n",
       "      <td>...</td>\n",
       "    </tr>\n",
       "    <tr>\n",
       "      <th>35374</th>\n",
       "      <td>100448</td>\n",
       "      <td>201390</td>\n",
       "      <td>9</td>\n",
       "      <td>168000</td>\n",
       "      <td>91</td>\n",
       "      <td>2019</td>\n",
       "      <td>12</td>\n",
       "      <td>31</td>\n",
       "      <td>23</td>\n",
       "      <td>40</td>\n",
       "      <td>...</td>\n",
       "      <td>6923</td>\n",
       "      <td>47</td>\n",
       "      <td>53</td>\n",
       "      <td>0</td>\n",
       "      <td>13.968137</td>\n",
       "      <td>0.03906</td>\n",
       "      <td>1.28643</td>\n",
       "      <td>0.0</td>\n",
       "      <td>45.0</td>\n",
       "      <td>0.0</td>\n",
       "    </tr>\n",
       "    <tr>\n",
       "      <th>35375</th>\n",
       "      <td>100448</td>\n",
       "      <td>201384</td>\n",
       "      <td>9</td>\n",
       "      <td>158000</td>\n",
       "      <td>87</td>\n",
       "      <td>2020</td>\n",
       "      <td>1</td>\n",
       "      <td>1</td>\n",
       "      <td>0</td>\n",
       "      <td>0</td>\n",
       "      <td>...</td>\n",
       "      <td>6924</td>\n",
       "      <td>48</td>\n",
       "      <td>53</td>\n",
       "      <td>0</td>\n",
       "      <td>13.968137</td>\n",
       "      <td>0.03906</td>\n",
       "      <td>1.28643</td>\n",
       "      <td>0.0</td>\n",
       "      <td>66.0</td>\n",
       "      <td>0.0</td>\n",
       "    </tr>\n",
       "    <tr>\n",
       "      <th>35376</th>\n",
       "      <td>100448</td>\n",
       "      <td>201383</td>\n",
       "      <td>9</td>\n",
       "      <td>178000</td>\n",
       "      <td>286</td>\n",
       "      <td>2020</td>\n",
       "      <td>1</td>\n",
       "      <td>1</td>\n",
       "      <td>0</td>\n",
       "      <td>0</td>\n",
       "      <td>...</td>\n",
       "      <td>6924</td>\n",
       "      <td>48</td>\n",
       "      <td>53</td>\n",
       "      <td>0</td>\n",
       "      <td>13.968137</td>\n",
       "      <td>0.03906</td>\n",
       "      <td>1.28643</td>\n",
       "      <td>0.0</td>\n",
       "      <td>66.0</td>\n",
       "      <td>0.0</td>\n",
       "    </tr>\n",
       "    <tr>\n",
       "      <th>35377</th>\n",
       "      <td>100448</td>\n",
       "      <td>201390</td>\n",
       "      <td>9</td>\n",
       "      <td>168000</td>\n",
       "      <td>621</td>\n",
       "      <td>2020</td>\n",
       "      <td>1</td>\n",
       "      <td>1</td>\n",
       "      <td>0</td>\n",
       "      <td>0</td>\n",
       "      <td>...</td>\n",
       "      <td>6924</td>\n",
       "      <td>48</td>\n",
       "      <td>53</td>\n",
       "      <td>0</td>\n",
       "      <td>13.968137</td>\n",
       "      <td>0.03906</td>\n",
       "      <td>1.28643</td>\n",
       "      <td>0.0</td>\n",
       "      <td>66.0</td>\n",
       "      <td>0.0</td>\n",
       "    </tr>\n",
       "    <tr>\n",
       "      <th>35378</th>\n",
       "      <td>100448</td>\n",
       "      <td>201391</td>\n",
       "      <td>9</td>\n",
       "      <td>148000</td>\n",
       "      <td>315</td>\n",
       "      <td>2020</td>\n",
       "      <td>1</td>\n",
       "      <td>1</td>\n",
       "      <td>0</td>\n",
       "      <td>0</td>\n",
       "      <td>...</td>\n",
       "      <td>6924</td>\n",
       "      <td>48</td>\n",
       "      <td>53</td>\n",
       "      <td>0</td>\n",
       "      <td>13.968137</td>\n",
       "      <td>0.03906</td>\n",
       "      <td>1.28643</td>\n",
       "      <td>0.0</td>\n",
       "      <td>66.0</td>\n",
       "      <td>0.0</td>\n",
       "    </tr>\n",
       "  </tbody>\n",
       "</table>\n",
       "<p>35379 rows × 22 columns</p>\n",
       "</div>"
      ],
      "text/plain": [
       "       m_code  p_code  p_group  unit_price  sales  YEAR  MONTH  DAY  HOUR  \\\n",
       "0      100346  201072        6       39900     53  2019      1    1     6   \n",
       "1      100346  201079        6       39900    110  2019      1    1     6   \n",
       "2      100346  201072        6       39900     82  2019      1    1     6   \n",
       "3      100346  201079        6       39900    174  2019      1    1     6   \n",
       "4      100346  201072        6       39900    167  2019      1    1     6   \n",
       "...       ...     ...      ...         ...    ...   ...    ...  ...   ...   \n",
       "35374  100448  201390        9      168000     91  2019     12   31    23   \n",
       "35375  100448  201384        9      158000     87  2020      1    1     0   \n",
       "35376  100448  201383        9      178000    286  2020      1    1     0   \n",
       "35377  100448  201390        9      168000    621  2020      1    1     0   \n",
       "35378  100448  201391        9      148000    315  2020      1    1     0   \n",
       "\n",
       "       MINUTE  ...  code  day_of_week_and_hour  52_week  holiday  brand_power  \\\n",
       "0           0  ...     0                    30        1        1    16.386845   \n",
       "1           0  ...     0                    30        1        1    16.386845   \n",
       "2          20  ...     0                    30        1        1    16.386845   \n",
       "3          20  ...     0                    30        1        1    16.386845   \n",
       "4          40  ...     0                    30        1        1    16.386845   \n",
       "...       ...  ...   ...                   ...      ...      ...          ...   \n",
       "35374      40  ...  6923                    47       53        0    13.968137   \n",
       "35375       0  ...  6924                    48       53        0    13.968137   \n",
       "35376       0  ...  6924                    48       53        0    13.968137   \n",
       "35377       0  ...  6924                    48       53        0    13.968137   \n",
       "35378       0  ...  6924                    48       53        0    13.968137   \n",
       "\n",
       "          mask   parcel  rain  humidity  sunshine  \n",
       "0      0.04095  0.52582   0.0      60.0       0.0  \n",
       "1      0.04095  0.52582   0.0      60.0       0.0  \n",
       "2      0.04095  0.52582   0.0      60.0       0.0  \n",
       "3      0.04095  0.52582   0.0      60.0       0.0  \n",
       "4      0.04095  0.52582   0.0      60.0       0.0  \n",
       "...        ...      ...   ...       ...       ...  \n",
       "35374  0.03906  1.28643   0.0      45.0       0.0  \n",
       "35375  0.03906  1.28643   0.0      66.0       0.0  \n",
       "35376  0.03906  1.28643   0.0      66.0       0.0  \n",
       "35377  0.03906  1.28643   0.0      66.0       0.0  \n",
       "35378  0.03906  1.28643   0.0      66.0       0.0  \n",
       "\n",
       "[35379 rows x 22 columns]"
      ]
     },
     "execution_count": 80,
     "metadata": {},
     "output_type": "execute_result"
    }
   ],
   "source": [
    "X"
   ]
  },
  {
   "cell_type": "code",
   "execution_count": 81,
   "metadata": {},
   "outputs": [],
   "source": [
    "trainX, testX, trainY, testY = train_test_split(X, Y, test_size=0.2)"
   ]
  },
  {
   "cell_type": "code",
   "execution_count": 83,
   "metadata": {},
   "outputs": [
    {
     "data": {
      "text/plain": [
       "GridSearchCV(estimator=XGBRegressor(base_score=None, booster=None,\n",
       "                                    colsample_bylevel=None,\n",
       "                                    colsample_bynode=None,\n",
       "                                    colsample_bytree=None, gamma=None,\n",
       "                                    gpu_id=None, importance_type='gain',\n",
       "                                    interaction_constraints=None,\n",
       "                                    learning_rate=None, max_delta_step=None,\n",
       "                                    max_depth=None, min_child_weight=None,\n",
       "                                    missing=nan, monotone_constraints=None,\n",
       "                                    n_estimators=100, n_jobs=None,\n",
       "                                    num_parallel_tree=None, random_state=44,\n",
       "                                    reg_alpha=None, reg_lambda=None,\n",
       "                                    scale_pos_weight=None, subsample=None,\n",
       "                                    tree_method=None, validate_parameters=None,\n",
       "                                    verbosity=None),\n",
       "             param_grid={'colsample_bytree': [0.6, 0.8, 1.0],\n",
       "                         'gamma': [0.5, 1, 1.5, 2, 5], 'max_depth': [3, 4, 5],\n",
       "                         'min_child_weight': [1, 5, 10],\n",
       "                         'subsample': [0.6, 0.8, 1.0]})"
      ]
     },
     "execution_count": 83,
     "metadata": {},
     "output_type": "execute_result"
    }
   ],
   "source": [
    "xgb = XGBRegressor(random_state=44)\n",
    "\n",
    "xgb_param = {\n",
    "    'min_child_weight': [1, 5, 10],\n",
    "    'gamma': [0.5, 1, 1.5, 2, 5],\n",
    "    'subsample': [0.6, 0.8, 1.0],\n",
    "    'colsample_bytree': [0.6, 0.8, 1.0],\n",
    "    'max_depth': [3, 4, 5]\n",
    "}\n",
    "\n",
    "grid_xgb = GridSearchCV(xgb, param_grid=xgb_param)\n",
    "grid_xgb.fit(trainX, trainY)"
   ]
  },
  {
   "cell_type": "code",
   "execution_count": 85,
   "metadata": {},
   "outputs": [
    {
     "name": "stdout",
     "output_type": "stream",
     "text": [
      "xgboost best param :  {'colsample_bytree': 1.0, 'gamma': 0.5, 'max_depth': 5, 'min_child_weight': 1, 'subsample': 0.8}\n",
      "xgboost best accuracy :  0.9933622780465926\n"
     ]
    }
   ],
   "source": [
    "print('xgboost best param : ',grid_xgb.best_params_)\n",
    "print('xgboost best accuracy : ',grid_xgb.best_score_)\n",
    "\n",
    "#xgboost best param :  {'colsample_bytree': 1.0, 'gamma': 0.5, 'max_depth': 5, 'min_child_weight': 1, 'subsample': 0.8}\n",
    "#xgboost best accuracy :  0.9932464443644917"
   ]
  },
  {
   "cell_type": "code",
   "execution_count": 86,
   "metadata": {},
   "outputs": [],
   "source": [
    "xgb_pred = grid_xgb.best_estimator_.predict(testX)"
   ]
  },
  {
   "cell_type": "code",
   "execution_count": 87,
   "metadata": {},
   "outputs": [
    {
     "data": {
      "text/plain": [
       "0.9963434653943949"
      ]
     },
     "execution_count": 87,
     "metadata": {},
     "output_type": "execute_result"
    }
   ],
   "source": [
    "grid_xgb.score(testX, testY)"
   ]
  },
  {
   "cell_type": "code",
   "execution_count": 91,
   "metadata": {},
   "outputs": [],
   "source": [
    "def mean_absolute_percentage_error(y_true, y_pred): \n",
    "    y_true, y_pred = np.array(y_true), np.array(y_pred)\n",
    "    return np.mean(np.abs((y_true - y_pred) / y_true)) * 100"
   ]
  },
  {
   "cell_type": "code",
   "execution_count": 92,
   "metadata": {},
   "outputs": [
    {
     "data": {
      "text/plain": [
       "4.671971903810377"
      ]
     },
     "execution_count": 92,
     "metadata": {},
     "output_type": "execute_result"
    }
   ],
   "source": [
    "mean_absolute_percentage_error(np.array(testY), xgb_pred)"
   ]
  },
  {
   "cell_type": "code",
   "execution_count": null,
   "metadata": {},
   "outputs": [],
   "source": []
  }
 ],
 "metadata": {
  "kernelspec": {
   "display_name": "Python 3",
   "language": "python",
   "name": "python3"
  },
  "language_info": {
   "codemirror_mode": {
    "name": "ipython",
    "version": 3
   },
   "file_extension": ".py",
   "mimetype": "text/x-python",
   "name": "python",
   "nbconvert_exporter": "python",
   "pygments_lexer": "ipython3",
   "version": "3.8.3"
  }
 },
 "nbformat": 4,
 "nbformat_minor": 4
}
