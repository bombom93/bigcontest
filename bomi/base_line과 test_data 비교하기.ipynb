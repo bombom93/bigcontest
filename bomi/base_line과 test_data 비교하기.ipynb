{
 "cells": [
  {
   "cell_type": "code",
   "execution_count": 17,
   "metadata": {},
   "outputs": [],
   "source": [
    "import pandas as pd\n",
    "import matplotlib.pyplot as plt\n",
    "import numpy as np\n",
    "import seaborn as sns\n",
    "plt.rcParams['font.family'] = 'AppleGothic'"
   ]
  },
  {
   "cell_type": "code",
   "execution_count": 4,
   "metadata": {},
   "outputs": [],
   "source": [
    "df=pd.read_excel('/Users/bomi/bigcon_personal/dataset/eval data/2020 빅콘테스트 데이터분석분야-챔피언리그_2020년 6월 판매실적예측데이터(평가데이터).xlsx',header=1)"
   ]
  },
  {
   "cell_type": "code",
   "execution_count": 22,
   "metadata": {},
   "outputs": [
    {
     "data": {
      "text/html": [
       "<div>\n",
       "<style scoped>\n",
       "    .dataframe tbody tr th:only-of-type {\n",
       "        vertical-align: middle;\n",
       "    }\n",
       "\n",
       "    .dataframe tbody tr th {\n",
       "        vertical-align: top;\n",
       "    }\n",
       "\n",
       "    .dataframe thead th {\n",
       "        text-align: right;\n",
       "    }\n",
       "</style>\n",
       "<table border=\"1\" class=\"dataframe\">\n",
       "  <thead>\n",
       "    <tr style=\"text-align: right;\">\n",
       "      <th></th>\n",
       "      <th>broadcast</th>\n",
       "      <th>exp_min</th>\n",
       "      <th>m_code</th>\n",
       "      <th>p_code</th>\n",
       "      <th>p_name</th>\n",
       "      <th>p_group</th>\n",
       "      <th>unit_price</th>\n",
       "      <th>total_price</th>\n",
       "    </tr>\n",
       "  </thead>\n",
       "  <tbody>\n",
       "    <tr>\n",
       "      <th>0</th>\n",
       "      <td>2020-06-01 06:20:00</td>\n",
       "      <td>20.0</td>\n",
       "      <td>100650</td>\n",
       "      <td>201971</td>\n",
       "      <td>잭필드 남성  반팔셔츠 4종</td>\n",
       "      <td>의류</td>\n",
       "      <td>59800</td>\n",
       "      <td>NaN</td>\n",
       "    </tr>\n",
       "    <tr>\n",
       "      <th>1</th>\n",
       "      <td>2020-06-01 06:40:00</td>\n",
       "      <td>20.0</td>\n",
       "      <td>100650</td>\n",
       "      <td>201971</td>\n",
       "      <td>잭필드 남성  반팔셔츠 4종</td>\n",
       "      <td>의류</td>\n",
       "      <td>59800</td>\n",
       "      <td>NaN</td>\n",
       "    </tr>\n",
       "    <tr>\n",
       "      <th>2</th>\n",
       "      <td>2020-06-01 07:00:00</td>\n",
       "      <td>20.0</td>\n",
       "      <td>100650</td>\n",
       "      <td>201971</td>\n",
       "      <td>잭필드 남성  반팔셔츠 4종</td>\n",
       "      <td>의류</td>\n",
       "      <td>59800</td>\n",
       "      <td>NaN</td>\n",
       "    </tr>\n",
       "    <tr>\n",
       "      <th>3</th>\n",
       "      <td>2020-06-01 07:20:00</td>\n",
       "      <td>20.0</td>\n",
       "      <td>100445</td>\n",
       "      <td>202278</td>\n",
       "      <td>쿠미투니카 쿨 레이시 란쥬쉐이퍼&amp;팬티</td>\n",
       "      <td>속옷</td>\n",
       "      <td>69900</td>\n",
       "      <td>NaN</td>\n",
       "    </tr>\n",
       "    <tr>\n",
       "      <th>4</th>\n",
       "      <td>2020-06-01 07:40:00</td>\n",
       "      <td>20.0</td>\n",
       "      <td>100445</td>\n",
       "      <td>202278</td>\n",
       "      <td>쿠미투니카 쿨 레이시 란쥬쉐이퍼&amp;팬티</td>\n",
       "      <td>속옷</td>\n",
       "      <td>69900</td>\n",
       "      <td>NaN</td>\n",
       "    </tr>\n",
       "  </tbody>\n",
       "</table>\n",
       "</div>"
      ],
      "text/plain": [
       "            broadcast  exp_min  m_code  p_code                p_name p_group  \\\n",
       "0 2020-06-01 06:20:00     20.0  100650  201971       잭필드 남성  반팔셔츠 4종      의류   \n",
       "1 2020-06-01 06:40:00     20.0  100650  201971       잭필드 남성  반팔셔츠 4종      의류   \n",
       "2 2020-06-01 07:00:00     20.0  100650  201971       잭필드 남성  반팔셔츠 4종      의류   \n",
       "3 2020-06-01 07:20:00     20.0  100445  202278  쿠미투니카 쿨 레이시 란쥬쉐이퍼&팬티      속옷   \n",
       "4 2020-06-01 07:40:00     20.0  100445  202278  쿠미투니카 쿨 레이시 란쥬쉐이퍼&팬티      속옷   \n",
       "\n",
       "   unit_price  total_price  \n",
       "0       59800          NaN  \n",
       "1       59800          NaN  \n",
       "2       59800          NaN  \n",
       "3       69900          NaN  \n",
       "4       69900          NaN  "
      ]
     },
     "execution_count": 22,
     "metadata": {},
     "output_type": "execute_result"
    }
   ],
   "source": [
    "df.head()"
   ]
  },
  {
   "cell_type": "code",
   "execution_count": 6,
   "metadata": {},
   "outputs": [],
   "source": [
    "df.columns=['broadcast','exp_min','m_code','p_code','p_name','p_group','unit_price','total_price']"
   ]
  },
  {
   "cell_type": "code",
   "execution_count": 23,
   "metadata": {},
   "outputs": [
    {
     "data": {
      "text/html": [
       "<div>\n",
       "<style scoped>\n",
       "    .dataframe tbody tr th:only-of-type {\n",
       "        vertical-align: middle;\n",
       "    }\n",
       "\n",
       "    .dataframe tbody tr th {\n",
       "        vertical-align: top;\n",
       "    }\n",
       "\n",
       "    .dataframe thead th {\n",
       "        text-align: right;\n",
       "    }\n",
       "</style>\n",
       "<table border=\"1\" class=\"dataframe\">\n",
       "  <thead>\n",
       "    <tr style=\"text-align: right;\">\n",
       "      <th></th>\n",
       "      <th>broadcast</th>\n",
       "      <th>exp_min</th>\n",
       "      <th>m_code</th>\n",
       "      <th>p_code</th>\n",
       "      <th>p_name</th>\n",
       "      <th>p_group</th>\n",
       "      <th>unit_price</th>\n",
       "      <th>total_price</th>\n",
       "    </tr>\n",
       "  </thead>\n",
       "  <tbody>\n",
       "    <tr>\n",
       "      <th>0</th>\n",
       "      <td>2020-06-01 06:20:00</td>\n",
       "      <td>20.0</td>\n",
       "      <td>100650</td>\n",
       "      <td>201971</td>\n",
       "      <td>잭필드 남성  반팔셔츠 4종</td>\n",
       "      <td>의류</td>\n",
       "      <td>59800</td>\n",
       "      <td>NaN</td>\n",
       "    </tr>\n",
       "    <tr>\n",
       "      <th>1</th>\n",
       "      <td>2020-06-01 06:40:00</td>\n",
       "      <td>20.0</td>\n",
       "      <td>100650</td>\n",
       "      <td>201971</td>\n",
       "      <td>잭필드 남성  반팔셔츠 4종</td>\n",
       "      <td>의류</td>\n",
       "      <td>59800</td>\n",
       "      <td>NaN</td>\n",
       "    </tr>\n",
       "    <tr>\n",
       "      <th>2</th>\n",
       "      <td>2020-06-01 07:00:00</td>\n",
       "      <td>20.0</td>\n",
       "      <td>100650</td>\n",
       "      <td>201971</td>\n",
       "      <td>잭필드 남성  반팔셔츠 4종</td>\n",
       "      <td>의류</td>\n",
       "      <td>59800</td>\n",
       "      <td>NaN</td>\n",
       "    </tr>\n",
       "    <tr>\n",
       "      <th>3</th>\n",
       "      <td>2020-06-01 07:20:00</td>\n",
       "      <td>20.0</td>\n",
       "      <td>100445</td>\n",
       "      <td>202278</td>\n",
       "      <td>쿠미투니카 쿨 레이시 란쥬쉐이퍼&amp;팬티</td>\n",
       "      <td>속옷</td>\n",
       "      <td>69900</td>\n",
       "      <td>NaN</td>\n",
       "    </tr>\n",
       "    <tr>\n",
       "      <th>4</th>\n",
       "      <td>2020-06-01 07:40:00</td>\n",
       "      <td>20.0</td>\n",
       "      <td>100445</td>\n",
       "      <td>202278</td>\n",
       "      <td>쿠미투니카 쿨 레이시 란쥬쉐이퍼&amp;팬티</td>\n",
       "      <td>속옷</td>\n",
       "      <td>69900</td>\n",
       "      <td>NaN</td>\n",
       "    </tr>\n",
       "  </tbody>\n",
       "</table>\n",
       "</div>"
      ],
      "text/plain": [
       "            broadcast  exp_min  m_code  p_code                p_name p_group  \\\n",
       "0 2020-06-01 06:20:00     20.0  100650  201971       잭필드 남성  반팔셔츠 4종      의류   \n",
       "1 2020-06-01 06:40:00     20.0  100650  201971       잭필드 남성  반팔셔츠 4종      의류   \n",
       "2 2020-06-01 07:00:00     20.0  100650  201971       잭필드 남성  반팔셔츠 4종      의류   \n",
       "3 2020-06-01 07:20:00     20.0  100445  202278  쿠미투니카 쿨 레이시 란쥬쉐이퍼&팬티      속옷   \n",
       "4 2020-06-01 07:40:00     20.0  100445  202278  쿠미투니카 쿨 레이시 란쥬쉐이퍼&팬티      속옷   \n",
       "\n",
       "   unit_price  total_price  \n",
       "0       59800          NaN  \n",
       "1       59800          NaN  \n",
       "2       59800          NaN  \n",
       "3       69900          NaN  \n",
       "4       69900          NaN  "
      ]
     },
     "execution_count": 23,
     "metadata": {},
     "output_type": "execute_result"
    }
   ],
   "source": [
    "df.head()"
   ]
  },
  {
   "cell_type": "code",
   "execution_count": 9,
   "metadata": {},
   "outputs": [],
   "source": [
    "rec=pd.read_excel('/Users/bomi/bigcon_personal/base_line.xlsx')"
   ]
  },
  {
   "cell_type": "code",
   "execution_count": 14,
   "metadata": {},
   "outputs": [
    {
     "data": {
      "text/html": [
       "<div>\n",
       "<style scoped>\n",
       "    .dataframe tbody tr th:only-of-type {\n",
       "        vertical-align: middle;\n",
       "    }\n",
       "\n",
       "    .dataframe tbody tr th {\n",
       "        vertical-align: top;\n",
       "    }\n",
       "\n",
       "    .dataframe thead th {\n",
       "        text-align: right;\n",
       "    }\n",
       "</style>\n",
       "<table border=\"1\" class=\"dataframe\">\n",
       "  <thead>\n",
       "    <tr style=\"text-align: right;\">\n",
       "      <th></th>\n",
       "      <th>broadcast</th>\n",
       "      <th>exp_min</th>\n",
       "      <th>m_code</th>\n",
       "      <th>p_code</th>\n",
       "      <th>p_name</th>\n",
       "      <th>p_group</th>\n",
       "      <th>unit_price</th>\n",
       "      <th>total_price</th>\n",
       "      <th>sales</th>\n",
       "      <th>YEAR</th>\n",
       "      <th>MONTH</th>\n",
       "      <th>DAY</th>\n",
       "      <th>HOUR</th>\n",
       "      <th>MINUTE</th>\n",
       "      <th>SECOND</th>\n",
       "      <th>YEAR_DAY</th>\n",
       "      <th>DAY_NAME</th>\n",
       "      <th>DAY_NUM</th>\n",
       "      <th>code</th>\n",
       "      <th>no</th>\n",
       "    </tr>\n",
       "  </thead>\n",
       "  <tbody>\n",
       "    <tr>\n",
       "      <th>0</th>\n",
       "      <td>2019-01-01 06:00:00</td>\n",
       "      <td>20.0</td>\n",
       "      <td>100346</td>\n",
       "      <td>201072</td>\n",
       "      <td>테이트 남성 셀린니트3종</td>\n",
       "      <td>의류</td>\n",
       "      <td>39900</td>\n",
       "      <td>2099000</td>\n",
       "      <td>53</td>\n",
       "      <td>2019</td>\n",
       "      <td>1</td>\n",
       "      <td>1</td>\n",
       "      <td>6</td>\n",
       "      <td>0</td>\n",
       "      <td>0</td>\n",
       "      <td>2019-01-01</td>\n",
       "      <td>Tuesday</td>\n",
       "      <td>2</td>\n",
       "      <td>0</td>\n",
       "      <td>0</td>\n",
       "    </tr>\n",
       "    <tr>\n",
       "      <th>1</th>\n",
       "      <td>2019-01-01 06:00:00</td>\n",
       "      <td>NaN</td>\n",
       "      <td>100346</td>\n",
       "      <td>201079</td>\n",
       "      <td>테이트 여성 셀린니트3종</td>\n",
       "      <td>의류</td>\n",
       "      <td>39900</td>\n",
       "      <td>4371000</td>\n",
       "      <td>110</td>\n",
       "      <td>2019</td>\n",
       "      <td>1</td>\n",
       "      <td>1</td>\n",
       "      <td>6</td>\n",
       "      <td>0</td>\n",
       "      <td>0</td>\n",
       "      <td>2019-01-01</td>\n",
       "      <td>Tuesday</td>\n",
       "      <td>2</td>\n",
       "      <td>0</td>\n",
       "      <td>1</td>\n",
       "    </tr>\n",
       "  </tbody>\n",
       "</table>\n",
       "</div>"
      ],
      "text/plain": [
       "            broadcast  exp_min  m_code  p_code         p_name p_group  \\\n",
       "0 2019-01-01 06:00:00     20.0  100346  201072  테이트 남성 셀린니트3종      의류   \n",
       "1 2019-01-01 06:00:00      NaN  100346  201079  테이트 여성 셀린니트3종      의류   \n",
       "\n",
       "   unit_price  total_price  sales  YEAR  MONTH  DAY  HOUR  MINUTE  SECOND  \\\n",
       "0       39900      2099000     53  2019      1    1     6       0       0   \n",
       "1       39900      4371000    110  2019      1    1     6       0       0   \n",
       "\n",
       "    YEAR_DAY DAY_NAME  DAY_NUM  code  no  \n",
       "0 2019-01-01  Tuesday        2     0   0  \n",
       "1 2019-01-01  Tuesday        2     0   1  "
      ]
     },
     "execution_count": 14,
     "metadata": {},
     "output_type": "execute_result"
    }
   ],
   "source": [
    "rec.head(2)"
   ]
  },
  {
   "cell_type": "code",
   "execution_count": 25,
   "metadata": {},
   "outputs": [
    {
     "data": {
      "text/html": [
       "<div>\n",
       "<style scoped>\n",
       "    .dataframe tbody tr th:only-of-type {\n",
       "        vertical-align: middle;\n",
       "    }\n",
       "\n",
       "    .dataframe tbody tr th {\n",
       "        vertical-align: top;\n",
       "    }\n",
       "\n",
       "    .dataframe thead th {\n",
       "        text-align: right;\n",
       "    }\n",
       "</style>\n",
       "<table border=\"1\" class=\"dataframe\">\n",
       "  <thead>\n",
       "    <tr style=\"text-align: right;\">\n",
       "      <th></th>\n",
       "      <th>broadcast</th>\n",
       "      <th>exp_min</th>\n",
       "      <th>m_code</th>\n",
       "      <th>p_code</th>\n",
       "      <th>p_name</th>\n",
       "      <th>p_group</th>\n",
       "      <th>unit_price</th>\n",
       "      <th>total_price</th>\n",
       "      <th>sales</th>\n",
       "      <th>YEAR</th>\n",
       "      <th>MONTH</th>\n",
       "      <th>DAY</th>\n",
       "      <th>HOUR</th>\n",
       "      <th>MINUTE</th>\n",
       "      <th>SECOND</th>\n",
       "      <th>YEAR_DAY</th>\n",
       "      <th>DAY_NAME</th>\n",
       "      <th>DAY_NUM</th>\n",
       "      <th>code</th>\n",
       "      <th>no</th>\n",
       "    </tr>\n",
       "  </thead>\n",
       "  <tbody>\n",
       "    <tr>\n",
       "      <th>14926</th>\n",
       "      <td>2019-06-01 06:00:00</td>\n",
       "      <td>20.0</td>\n",
       "      <td>100219</td>\n",
       "      <td>200767</td>\n",
       "      <td>썸덱스 쉬룰 데일리 백팩 5종 세트</td>\n",
       "      <td>잡화</td>\n",
       "      <td>59000</td>\n",
       "      <td>11954000</td>\n",
       "      <td>203</td>\n",
       "      <td>2019</td>\n",
       "      <td>6</td>\n",
       "      <td>1</td>\n",
       "      <td>6</td>\n",
       "      <td>0</td>\n",
       "      <td>0</td>\n",
       "      <td>2019-06-01</td>\n",
       "      <td>Saturday</td>\n",
       "      <td>6</td>\n",
       "      <td>2889</td>\n",
       "      <td>14926</td>\n",
       "    </tr>\n",
       "    <tr>\n",
       "      <th>14927</th>\n",
       "      <td>2019-06-01 06:20:00</td>\n",
       "      <td>20.0</td>\n",
       "      <td>100219</td>\n",
       "      <td>200767</td>\n",
       "      <td>썸덱스 쉬룰 데일리 백팩 5종 세트</td>\n",
       "      <td>잡화</td>\n",
       "      <td>59000</td>\n",
       "      <td>15705000</td>\n",
       "      <td>266</td>\n",
       "      <td>2019</td>\n",
       "      <td>6</td>\n",
       "      <td>1</td>\n",
       "      <td>6</td>\n",
       "      <td>20</td>\n",
       "      <td>0</td>\n",
       "      <td>2019-06-01</td>\n",
       "      <td>Saturday</td>\n",
       "      <td>6</td>\n",
       "      <td>2889</td>\n",
       "      <td>14927</td>\n",
       "    </tr>\n",
       "  </tbody>\n",
       "</table>\n",
       "</div>"
      ],
      "text/plain": [
       "                broadcast  exp_min  m_code  p_code               p_name  \\\n",
       "14926 2019-06-01 06:00:00     20.0  100219  200767  썸덱스 쉬룰 데일리 백팩 5종 세트   \n",
       "14927 2019-06-01 06:20:00     20.0  100219  200767  썸덱스 쉬룰 데일리 백팩 5종 세트   \n",
       "\n",
       "      p_group  unit_price  total_price  sales  YEAR  MONTH  DAY  HOUR  MINUTE  \\\n",
       "14926      잡화       59000     11954000    203  2019      6    1     6       0   \n",
       "14927      잡화       59000     15705000    266  2019      6    1     6      20   \n",
       "\n",
       "       SECOND   YEAR_DAY  DAY_NAME  DAY_NUM  code     no  \n",
       "14926       0 2019-06-01  Saturday        6  2889  14926  \n",
       "14927       0 2019-06-01  Saturday        6  2889  14927  "
      ]
     },
     "execution_count": 25,
     "metadata": {},
     "output_type": "execute_result"
    }
   ],
   "source": [
    "#6월만 자름\n",
    "june=rec[rec['MONTH']==6]\n",
    "june.head(2)"
   ]
  },
  {
   "cell_type": "markdown",
   "metadata": {},
   "source": [
    "## 2020년 6월 상품군별 방송횟수"
   ]
  },
  {
   "cell_type": "code",
   "execution_count": 8,
   "metadata": {
    "scrolled": true
   },
   "outputs": [
    {
     "data": {
      "text/plain": [
       "가전      489\n",
       "농수축     424\n",
       "생활용품    348\n",
       "속옷      329\n",
       "잡화      277\n",
       "주방      272\n",
       "무형      175\n",
       "이미용     167\n",
       "의류      161\n",
       "가구      159\n",
       "침구       72\n",
       "건강기능     18\n",
       "Name: p_group, dtype: int64"
      ]
     },
     "execution_count": 8,
     "metadata": {},
     "output_type": "execute_result"
    }
   ],
   "source": [
    "df.p_group.value_counts()"
   ]
  },
  {
   "cell_type": "code",
   "execution_count": 37,
   "metadata": {},
   "outputs": [
    {
     "data": {
      "image/png": "[encoded data removed]",
      "text/plain": [
       "<Figure size 720x504 with 1 Axes>"
      ]
     },
     "metadata": {
      "needs_background": "light"
     },
     "output_type": "display_data"
    }
   ],
   "source": [
    "df.p_group.value_counts().plot(kind='bar',figsize=(10,7))\n",
    "plt.title('20년 6월 상품군별 방송횟수')\n",
    "for i,v in enumerate(range(len(df.p_group.value_counts().index))):\n",
    "    plt.text(v,df.p_group.value_counts().values[i],df.p_group.value_counts().values[i],\n",
    "             fontsize = 10, \n",
    "             horizontalalignment='center',  # horizontalalignment (left, center, right)\n",
    "             verticalalignment='bottom'\n",
    "            )"
   ]
  },
  {
   "cell_type": "markdown",
   "metadata": {},
   "source": [
    "## 2019년 6월 상품군별 방송횟수"
   ]
  },
  {
   "cell_type": "code",
   "execution_count": 15,
   "metadata": {},
   "outputs": [
    {
     "data": {
      "text/plain": [
       "주방      486\n",
       "의류      448\n",
       "가전      427\n",
       "속옷      375\n",
       "잡화      293\n",
       "가구      236\n",
       "농수축     199\n",
       "침구      162\n",
       "생활용품     87\n",
       "건강기능     87\n",
       "이미용      60\n",
       "Name: p_group, dtype: int64"
      ]
     },
     "execution_count": 15,
     "metadata": {},
     "output_type": "execute_result"
    }
   ],
   "source": [
    "june.p_group.value_counts()"
   ]
  },
  {
   "cell_type": "code",
   "execution_count": 27,
   "metadata": {},
   "outputs": [
    {
     "data": {
      "text/plain": [
       "array([486, 448, 427, 375, 293, 236, 199, 162,  87,  87,  60])"
      ]
     },
     "execution_count": 27,
     "metadata": {},
     "output_type": "execute_result"
    }
   ],
   "source": [
    "june.p_group.value_counts().values"
   ]
  },
  {
   "cell_type": "code",
   "execution_count": 35,
   "metadata": {},
   "outputs": [
    {
     "data": {
      "image/png": "[encoded data removed]",
      "text/plain": [
       "<Figure size 720x504 with 1 Axes>"
      ]
     },
     "metadata": {
      "needs_background": "light"
     },
     "output_type": "display_data"
    }
   ],
   "source": [
    "june.p_group.value_counts().plot(kind='bar',figsize=(10,7))\n",
    "plt.title('19년 6월 상품군별 방송횟수')\n",
    "for i,v in enumerate(range(len(june.p_group.value_counts().index))):\n",
    "    plt.text(v,june.p_group.value_counts().values[i],june.p_group.value_counts().values[i],\n",
    "             fontsize = 10, \n",
    "             horizontalalignment='center',  # horizontalalignment (left, center, right)\n",
    "             verticalalignment='bottom'\n",
    "            )"
   ]
  },
  {
   "cell_type": "code",
   "execution_count": 52,
   "metadata": {
    "scrolled": false
   },
   "outputs": [
    {
     "data": {
      "image/png": "[encoded data removed]",
      "text/plain": [
       "<Figure size 720x504 with 1 Axes>"
      ]
     },
     "metadata": {},
     "output_type": "display_data"
    },
    {
     "data": {
      "text/plain": [
       "Text(0.5, 1.0, '20 june')"
      ]
     },
     "execution_count": 52,
     "metadata": {},
     "output_type": "execute_result"
    },
    {
     "data": {
      "image/png": "[encoded data removed]",
      "text/plain": [
       "<Figure size 720x504 with 1 Axes>"
      ]
     },
     "metadata": {},
     "output_type": "display_data"
    }
   ],
   "source": [
    "\n",
    "june.p_group.value_counts().plot(kind='pie',figsize=(10,7),autopct='%1.2f%%')\n",
    "plt.title('19 june',fontsize=20)\n",
    "plt.show()\n",
    "df.p_group.value_counts().plot(kind='pie',figsize=(10,7),autopct='%1.2f%%')\n",
    "plt.title('20 june',fontsize=20)"
   ]
  },
  {
   "cell_type": "code",
   "execution_count": 61,
   "metadata": {},
   "outputs": [
    {
     "data": {
      "text/html": [
       "<div>\n",
       "<style scoped>\n",
       "    .dataframe tbody tr th:only-of-type {\n",
       "        vertical-align: middle;\n",
       "    }\n",
       "\n",
       "    .dataframe tbody tr th {\n",
       "        vertical-align: top;\n",
       "    }\n",
       "\n",
       "    .dataframe thead th {\n",
       "        text-align: right;\n",
       "    }\n",
       "</style>\n",
       "<table border=\"1\" class=\"dataframe\">\n",
       "  <thead>\n",
       "    <tr style=\"text-align: right;\">\n",
       "      <th></th>\n",
       "      <th>exp_min</th>\n",
       "      <th>m_code</th>\n",
       "      <th>p_code</th>\n",
       "      <th>unit_price</th>\n",
       "      <th>total_price</th>\n",
       "    </tr>\n",
       "    <tr>\n",
       "      <th>p_group</th>\n",
       "      <th></th>\n",
       "      <th></th>\n",
       "      <th></th>\n",
       "      <th></th>\n",
       "      <th></th>\n",
       "    </tr>\n",
       "  </thead>\n",
       "  <tbody>\n",
       "    <tr>\n",
       "      <th>가구</th>\n",
       "      <td>20.000000</td>\n",
       "      <td>100239.415094</td>\n",
       "      <td>200814.830189</td>\n",
       "      <td>7.713774e+05</td>\n",
       "      <td>NaN</td>\n",
       "    </tr>\n",
       "    <tr>\n",
       "      <th>가전</th>\n",
       "      <td>20.000000</td>\n",
       "      <td>100295.858896</td>\n",
       "      <td>200989.576687</td>\n",
       "      <td>1.368417e+06</td>\n",
       "      <td>NaN</td>\n",
       "    </tr>\n",
       "    <tr>\n",
       "      <th>건강기능</th>\n",
       "      <td>20.000000</td>\n",
       "      <td>100455.000000</td>\n",
       "      <td>201366.000000</td>\n",
       "      <td>7.101667e+04</td>\n",
       "      <td>NaN</td>\n",
       "    </tr>\n",
       "    <tr>\n",
       "      <th>농수축</th>\n",
       "      <td>18.941071</td>\n",
       "      <td>100461.650943</td>\n",
       "      <td>201391.544811</td>\n",
       "      <td>4.040236e+04</td>\n",
       "      <td>NaN</td>\n",
       "    </tr>\n",
       "    <tr>\n",
       "      <th>무형</th>\n",
       "      <td>23.998160</td>\n",
       "      <td>100513.925714</td>\n",
       "      <td>201555.617143</td>\n",
       "      <td>0.000000e+00</td>\n",
       "      <td>NaN</td>\n",
       "    </tr>\n",
       "    <tr>\n",
       "      <th>생활용품</th>\n",
       "      <td>19.979718</td>\n",
       "      <td>100420.008621</td>\n",
       "      <td>201286.301724</td>\n",
       "      <td>1.682724e+05</td>\n",
       "      <td>NaN</td>\n",
       "    </tr>\n",
       "    <tr>\n",
       "      <th>속옷</th>\n",
       "      <td>18.504944</td>\n",
       "      <td>100345.860182</td>\n",
       "      <td>201099.270517</td>\n",
       "      <td>7.373009e+04</td>\n",
       "      <td>NaN</td>\n",
       "    </tr>\n",
       "    <tr>\n",
       "      <th>의류</th>\n",
       "      <td>19.757192</td>\n",
       "      <td>100483.708075</td>\n",
       "      <td>201474.608696</td>\n",
       "      <td>5.183478e+04</td>\n",
       "      <td>NaN</td>\n",
       "    </tr>\n",
       "    <tr>\n",
       "      <th>이미용</th>\n",
       "      <td>19.899202</td>\n",
       "      <td>100480.101796</td>\n",
       "      <td>201453.089820</td>\n",
       "      <td>4.854431e+04</td>\n",
       "      <td>NaN</td>\n",
       "    </tr>\n",
       "    <tr>\n",
       "      <th>잡화</th>\n",
       "      <td>21.558254</td>\n",
       "      <td>100293.527076</td>\n",
       "      <td>200883.981949</td>\n",
       "      <td>7.284484e+05</td>\n",
       "      <td>NaN</td>\n",
       "    </tr>\n",
       "    <tr>\n",
       "      <th>주방</th>\n",
       "      <td>20.425698</td>\n",
       "      <td>100513.077206</td>\n",
       "      <td>201516.441176</td>\n",
       "      <td>1.531827e+05</td>\n",
       "      <td>NaN</td>\n",
       "    </tr>\n",
       "    <tr>\n",
       "      <th>침구</th>\n",
       "      <td>16.666667</td>\n",
       "      <td>100119.500000</td>\n",
       "      <td>200326.833333</td>\n",
       "      <td>1.061167e+05</td>\n",
       "      <td>NaN</td>\n",
       "    </tr>\n",
       "  </tbody>\n",
       "</table>\n",
       "</div>"
      ],
      "text/plain": [
       "           exp_min         m_code         p_code    unit_price  total_price\n",
       "p_group                                                                    \n",
       "가구       20.000000  100239.415094  200814.830189  7.713774e+05          NaN\n",
       "가전       20.000000  100295.858896  200989.576687  1.368417e+06          NaN\n",
       "건강기능     20.000000  100455.000000  201366.000000  7.101667e+04          NaN\n",
       "농수축      18.941071  100461.650943  201391.544811  4.040236e+04          NaN\n",
       "무형       23.998160  100513.925714  201555.617143  0.000000e+00          NaN\n",
       "생활용품     19.979718  100420.008621  201286.301724  1.682724e+05          NaN\n",
       "속옷       18.504944  100345.860182  201099.270517  7.373009e+04          NaN\n",
       "의류       19.757192  100483.708075  201474.608696  5.183478e+04          NaN\n",
       "이미용      19.899202  100480.101796  201453.089820  4.854431e+04          NaN\n",
       "잡화       21.558254  100293.527076  200883.981949  7.284484e+05          NaN\n",
       "주방       20.425698  100513.077206  201516.441176  1.531827e+05          NaN\n",
       "침구       16.666667  100119.500000  200326.833333  1.061167e+05          NaN"
      ]
     },
     "execution_count": 61,
     "metadata": {},
     "output_type": "execute_result"
    }
   ],
   "source": [
    "df.groupby('p_group').mean()"
   ]
  },
  {
   "cell_type": "code",
   "execution_count": 63,
   "metadata": {},
   "outputs": [],
   "source": [
    "df3=pd.read_csv('/Users/bomi/Downloads/소매업태별_판매액지수_2015100.0__20200923142405.csv',encoding='CP949')"
   ]
  },
  {
   "cell_type": "code",
   "execution_count": 64,
   "metadata": {},
   "outputs": [
    {
     "data": {
      "text/html": [
       "<div>\n",
       "<style scoped>\n",
       "    .dataframe tbody tr th:only-of-type {\n",
       "        vertical-align: middle;\n",
       "    }\n",
       "\n",
       "    .dataframe tbody tr th {\n",
       "        vertical-align: top;\n",
       "    }\n",
       "\n",
       "    .dataframe thead th {\n",
       "        text-align: right;\n",
       "    }\n",
       "</style>\n",
       "<table border=\"1\" class=\"dataframe\">\n",
       "  <thead>\n",
       "    <tr style=\"text-align: right;\">\n",
       "      <th></th>\n",
       "      <th>업태별</th>\n",
       "      <th>2019. 01</th>\n",
       "      <th>2019. 01.1</th>\n",
       "      <th>2019. 01.2</th>\n",
       "      <th>2019. 02</th>\n",
       "      <th>2019. 02.1</th>\n",
       "      <th>2019. 02.2</th>\n",
       "      <th>2019. 03</th>\n",
       "      <th>2019. 03.1</th>\n",
       "      <th>2019. 03.2</th>\n",
       "      <th>...</th>\n",
       "      <th>2020. 03.2</th>\n",
       "      <th>2020. 04</th>\n",
       "      <th>2020. 04.1</th>\n",
       "      <th>2020. 04.2</th>\n",
       "      <th>2020. 05</th>\n",
       "      <th>2020. 05.1</th>\n",
       "      <th>2020. 05.2</th>\n",
       "      <th>2020. 06 p)</th>\n",
       "      <th>2020. 06 p).1</th>\n",
       "      <th>2020. 06 p).2</th>\n",
       "    </tr>\n",
       "  </thead>\n",
       "  <tbody>\n",
       "    <tr>\n",
       "      <th>0</th>\n",
       "      <td>업태별</td>\n",
       "      <td>경상지수</td>\n",
       "      <td>불변지수</td>\n",
       "      <td>계절조정지수</td>\n",
       "      <td>경상지수</td>\n",
       "      <td>불변지수</td>\n",
       "      <td>계절조정지수</td>\n",
       "      <td>경상지수</td>\n",
       "      <td>불변지수</td>\n",
       "      <td>계절조정지수</td>\n",
       "      <td>...</td>\n",
       "      <td>계절조정지수</td>\n",
       "      <td>경상지수</td>\n",
       "      <td>불변지수</td>\n",
       "      <td>계절조정지수</td>\n",
       "      <td>경상지수</td>\n",
       "      <td>불변지수</td>\n",
       "      <td>계절조정지수</td>\n",
       "      <td>경상지수</td>\n",
       "      <td>불변지수</td>\n",
       "      <td>계절조정지수</td>\n",
       "    </tr>\n",
       "    <tr>\n",
       "      <th>1</th>\n",
       "      <td>총지수</td>\n",
       "      <td>111.7</td>\n",
       "      <td>109.8</td>\n",
       "      <td>110.9</td>\n",
       "      <td>101.9</td>\n",
       "      <td>99.8</td>\n",
       "      <td>111.1</td>\n",
       "      <td>118.1</td>\n",
       "      <td>116.0</td>\n",
       "      <td>113.9</td>\n",
       "      <td>...</td>\n",
       "      <td>104.8</td>\n",
       "      <td>110.8</td>\n",
       "      <td>108.9</td>\n",
       "      <td>110.4</td>\n",
       "      <td>120.4</td>\n",
       "      <td>118.6</td>\n",
       "      <td>115.5</td>\n",
       "      <td>118.8</td>\n",
       "      <td>116.9</td>\n",
       "      <td>118.2</td>\n",
       "    </tr>\n",
       "    <tr>\n",
       "      <th>2</th>\n",
       "      <td>체인 슈퍼마켓</td>\n",
       "      <td>118.2</td>\n",
       "      <td>110.0</td>\n",
       "      <td>-</td>\n",
       "      <td>111.0</td>\n",
       "      <td>102.7</td>\n",
       "      <td>-</td>\n",
       "      <td>110.0</td>\n",
       "      <td>102.7</td>\n",
       "      <td>-</td>\n",
       "      <td>...</td>\n",
       "      <td>-</td>\n",
       "      <td>120.1</td>\n",
       "      <td>109.5</td>\n",
       "      <td>-</td>\n",
       "      <td>130.9</td>\n",
       "      <td>119.2</td>\n",
       "      <td>-</td>\n",
       "      <td>122.1</td>\n",
       "      <td>111.5</td>\n",
       "      <td>-</td>\n",
       "    </tr>\n",
       "    <tr>\n",
       "      <th>3</th>\n",
       "      <td>일반 슈퍼마켓 및 잡화점</td>\n",
       "      <td>93.1</td>\n",
       "      <td>88.0</td>\n",
       "      <td>-</td>\n",
       "      <td>86.9</td>\n",
       "      <td>81.5</td>\n",
       "      <td>-</td>\n",
       "      <td>93.2</td>\n",
       "      <td>88.0</td>\n",
       "      <td>-</td>\n",
       "      <td>...</td>\n",
       "      <td>-</td>\n",
       "      <td>95.8</td>\n",
       "      <td>88.6</td>\n",
       "      <td>-</td>\n",
       "      <td>105.6</td>\n",
       "      <td>97.5</td>\n",
       "      <td>-</td>\n",
       "      <td>99.5</td>\n",
       "      <td>92.1</td>\n",
       "      <td>-</td>\n",
       "    </tr>\n",
       "    <tr>\n",
       "      <th>4</th>\n",
       "      <td>승용차 소매점</td>\n",
       "      <td>98.8</td>\n",
       "      <td>99.6</td>\n",
       "      <td>-</td>\n",
       "      <td>87.7</td>\n",
       "      <td>88.5</td>\n",
       "      <td>-</td>\n",
       "      <td>115.5</td>\n",
       "      <td>116.8</td>\n",
       "      <td>-</td>\n",
       "      <td>...</td>\n",
       "      <td>-</td>\n",
       "      <td>142.6</td>\n",
       "      <td>145.0</td>\n",
       "      <td>-</td>\n",
       "      <td>144.9</td>\n",
       "      <td>147.1</td>\n",
       "      <td>-</td>\n",
       "      <td>168.6</td>\n",
       "      <td>171.3</td>\n",
       "      <td>-</td>\n",
       "    </tr>\n",
       "    <tr>\n",
       "      <th>5</th>\n",
       "      <td>연료 소매점</td>\n",
       "      <td>98.4</td>\n",
       "      <td>103.8</td>\n",
       "      <td>-</td>\n",
       "      <td>92.3</td>\n",
       "      <td>97.9</td>\n",
       "      <td>-</td>\n",
       "      <td>101.1</td>\n",
       "      <td>105.3</td>\n",
       "      <td>-</td>\n",
       "      <td>...</td>\n",
       "      <td>-</td>\n",
       "      <td>89.2</td>\n",
       "      <td>99.7</td>\n",
       "      <td>-</td>\n",
       "      <td>88.4</td>\n",
       "      <td>105.5</td>\n",
       "      <td>-</td>\n",
       "      <td>92.0</td>\n",
       "      <td>104.3</td>\n",
       "      <td>-</td>\n",
       "    </tr>\n",
       "    <tr>\n",
       "      <th>6</th>\n",
       "      <td>가전·컴퓨터·통신기기 소매점</td>\n",
       "      <td>88.4</td>\n",
       "      <td>89.8</td>\n",
       "      <td>-</td>\n",
       "      <td>80.4</td>\n",
       "      <td>82.2</td>\n",
       "      <td>-</td>\n",
       "      <td>103.9</td>\n",
       "      <td>106.4</td>\n",
       "      <td>-</td>\n",
       "      <td>...</td>\n",
       "      <td>-</td>\n",
       "      <td>85.1</td>\n",
       "      <td>87.4</td>\n",
       "      <td>-</td>\n",
       "      <td>95.7</td>\n",
       "      <td>98.5</td>\n",
       "      <td>-</td>\n",
       "      <td>96.7</td>\n",
       "      <td>99.7</td>\n",
       "      <td>-</td>\n",
       "    </tr>\n",
       "    <tr>\n",
       "      <th>7</th>\n",
       "      <td>의복·신발·가방 소매점</td>\n",
       "      <td>97.7</td>\n",
       "      <td>94.3</td>\n",
       "      <td>-</td>\n",
       "      <td>91.8</td>\n",
       "      <td>87.7</td>\n",
       "      <td>-</td>\n",
       "      <td>111.4</td>\n",
       "      <td>106.8</td>\n",
       "      <td>-</td>\n",
       "      <td>...</td>\n",
       "      <td>-</td>\n",
       "      <td>75.8</td>\n",
       "      <td>73.0</td>\n",
       "      <td>-</td>\n",
       "      <td>102.0</td>\n",
       "      <td>97.0</td>\n",
       "      <td>-</td>\n",
       "      <td>81.3</td>\n",
       "      <td>77.5</td>\n",
       "      <td>-</td>\n",
       "    </tr>\n",
       "    <tr>\n",
       "      <th>8</th>\n",
       "      <td>음식·가정· 문화상품 소매점</td>\n",
       "      <td>92.0</td>\n",
       "      <td>85.3</td>\n",
       "      <td>-</td>\n",
       "      <td>85.3</td>\n",
       "      <td>78.4</td>\n",
       "      <td>-</td>\n",
       "      <td>91.8</td>\n",
       "      <td>85.2</td>\n",
       "      <td>-</td>\n",
       "      <td>...</td>\n",
       "      <td>-</td>\n",
       "      <td>84.1</td>\n",
       "      <td>76.9</td>\n",
       "      <td>-</td>\n",
       "      <td>94.1</td>\n",
       "      <td>85.8</td>\n",
       "      <td>-</td>\n",
       "      <td>86.4</td>\n",
       "      <td>79.1</td>\n",
       "      <td>-</td>\n",
       "    </tr>\n",
       "    <tr>\n",
       "      <th>9</th>\n",
       "      <td>의약품·화장품·기타상품 소매점</td>\n",
       "      <td>102.8</td>\n",
       "      <td>104.0</td>\n",
       "      <td>-</td>\n",
       "      <td>95.6</td>\n",
       "      <td>96.3</td>\n",
       "      <td>-</td>\n",
       "      <td>106.6</td>\n",
       "      <td>107.2</td>\n",
       "      <td>-</td>\n",
       "      <td>...</td>\n",
       "      <td>-</td>\n",
       "      <td>94.2</td>\n",
       "      <td>92.8</td>\n",
       "      <td>-</td>\n",
       "      <td>100.7</td>\n",
       "      <td>99.2</td>\n",
       "      <td>-</td>\n",
       "      <td>100.2</td>\n",
       "      <td>98.6</td>\n",
       "      <td>-</td>\n",
       "    </tr>\n",
       "    <tr>\n",
       "      <th>10</th>\n",
       "      <td>무점포 소매</td>\n",
       "      <td>170.1</td>\n",
       "      <td>166.5</td>\n",
       "      <td>158.9</td>\n",
       "      <td>145.6</td>\n",
       "      <td>142.0</td>\n",
       "      <td>157.0</td>\n",
       "      <td>172.8</td>\n",
       "      <td>168.9</td>\n",
       "      <td>163.6</td>\n",
       "      <td>...</td>\n",
       "      <td>194.4</td>\n",
       "      <td>198.0</td>\n",
       "      <td>192.1</td>\n",
       "      <td>191.2</td>\n",
       "      <td>208.9</td>\n",
       "      <td>202.3</td>\n",
       "      <td>200.6</td>\n",
       "      <td>203.8</td>\n",
       "      <td>197.7</td>\n",
       "      <td>203.8</td>\n",
       "    </tr>\n",
       "    <tr>\n",
       "      <th>11</th>\n",
       "      <td>홈쇼핑</td>\n",
       "      <td>142.2</td>\n",
       "      <td>139.3</td>\n",
       "      <td>-</td>\n",
       "      <td>116.1</td>\n",
       "      <td>113.3</td>\n",
       "      <td>-</td>\n",
       "      <td>137.0</td>\n",
       "      <td>134.0</td>\n",
       "      <td>-</td>\n",
       "      <td>...</td>\n",
       "      <td>-</td>\n",
       "      <td>137.8</td>\n",
       "      <td>133.3</td>\n",
       "      <td>-</td>\n",
       "      <td>144.7</td>\n",
       "      <td>139.8</td>\n",
       "      <td>-</td>\n",
       "      <td>143.0</td>\n",
       "      <td>139.2</td>\n",
       "      <td>-</td>\n",
       "    </tr>\n",
       "  </tbody>\n",
       "</table>\n",
       "<p>12 rows × 55 columns</p>\n",
       "</div>"
      ],
      "text/plain": [
       "                 업태별 2019. 01 2019. 01.1 2019. 01.2 2019. 02 2019. 02.1  \\\n",
       "0                업태별     경상지수       불변지수     계절조정지수     경상지수       불변지수   \n",
       "1                총지수    111.7      109.8      110.9    101.9       99.8   \n",
       "2            체인 슈퍼마켓    118.2      110.0          -    111.0      102.7   \n",
       "3      일반 슈퍼마켓 및 잡화점     93.1       88.0          -     86.9       81.5   \n",
       "4            승용차 소매점     98.8       99.6          -     87.7       88.5   \n",
       "5             연료 소매점     98.4      103.8          -     92.3       97.9   \n",
       "6    가전·컴퓨터·통신기기 소매점     88.4       89.8          -     80.4       82.2   \n",
       "7       의복·신발·가방 소매점     97.7       94.3          -     91.8       87.7   \n",
       "8    음식·가정· 문화상품 소매점     92.0       85.3          -     85.3       78.4   \n",
       "9   의약품·화장품·기타상품 소매점    102.8      104.0          -     95.6       96.3   \n",
       "10            무점포 소매    170.1      166.5      158.9    145.6      142.0   \n",
       "11               홈쇼핑    142.2      139.3          -    116.1      113.3   \n",
       "\n",
       "   2019. 02.2 2019. 03 2019. 03.1 2019. 03.2  ... 2020. 03.2 2020. 04  \\\n",
       "0      계절조정지수     경상지수       불변지수     계절조정지수  ...     계절조정지수     경상지수   \n",
       "1       111.1    118.1      116.0      113.9  ...      104.8    110.8   \n",
       "2           -    110.0      102.7          -  ...          -    120.1   \n",
       "3           -     93.2       88.0          -  ...          -     95.8   \n",
       "4           -    115.5      116.8          -  ...          -    142.6   \n",
       "5           -    101.1      105.3          -  ...          -     89.2   \n",
       "6           -    103.9      106.4          -  ...          -     85.1   \n",
       "7           -    111.4      106.8          -  ...          -     75.8   \n",
       "8           -     91.8       85.2          -  ...          -     84.1   \n",
       "9           -    106.6      107.2          -  ...          -     94.2   \n",
       "10      157.0    172.8      168.9      163.6  ...      194.4    198.0   \n",
       "11          -    137.0      134.0          -  ...          -    137.8   \n",
       "\n",
       "   2020. 04.1 2020. 04.2 2020. 05 2020. 05.1 2020. 05.2 2020. 06 p)  \\\n",
       "0        불변지수     계절조정지수     경상지수       불변지수     계절조정지수        경상지수   \n",
       "1       108.9      110.4    120.4      118.6      115.5       118.8   \n",
       "2       109.5          -    130.9      119.2          -       122.1   \n",
       "3        88.6          -    105.6       97.5          -        99.5   \n",
       "4       145.0          -    144.9      147.1          -       168.6   \n",
       "5        99.7          -     88.4      105.5          -        92.0   \n",
       "6        87.4          -     95.7       98.5          -        96.7   \n",
       "7        73.0          -    102.0       97.0          -        81.3   \n",
       "8        76.9          -     94.1       85.8          -        86.4   \n",
       "9        92.8          -    100.7       99.2          -       100.2   \n",
       "10      192.1      191.2    208.9      202.3      200.6       203.8   \n",
       "11      133.3          -    144.7      139.8          -       143.0   \n",
       "\n",
       "   2020. 06 p).1 2020. 06 p).2  \n",
       "0           불변지수        계절조정지수  \n",
       "1          116.9         118.2  \n",
       "2          111.5             -  \n",
       "3           92.1             -  \n",
       "4          171.3             -  \n",
       "5          104.3             -  \n",
       "6           99.7             -  \n",
       "7           77.5             -  \n",
       "8           79.1             -  \n",
       "9           98.6             -  \n",
       "10         197.7         203.8  \n",
       "11         139.2             -  \n",
       "\n",
       "[12 rows x 55 columns]"
      ]
     },
     "execution_count": 64,
     "metadata": {},
     "output_type": "execute_result"
    }
   ],
   "source": [
    "df3"
   ]
  },
  {
   "cell_type": "code",
   "execution_count": 72,
   "metadata": {},
   "outputs": [
    {
     "name": "stdout",
     "output_type": "stream",
     "text": [
      "142.2 116.1 143.0\n"
     ]
    }
   ],
   "source": [
    "print(df3.iloc[-1,1],df3.iloc[-1,4],df3.iloc[-1,52])\n"
   ]
  },
  {
   "cell_type": "code",
   "execution_count": 82,
   "metadata": {},
   "outputs": [],
   "source": [
    "homelist=[]\n",
    "for i in range(1,55,3):\n",
    "    homelist.append(float(df3.iloc[-1,i]))"
   ]
  },
  {
   "cell_type": "code",
   "execution_count": 83,
   "metadata": {},
   "outputs": [],
   "source": [
    "import matplotlib.pyplot as plt"
   ]
  },
  {
   "cell_type": "code",
   "execution_count": 88,
   "metadata": {
    "scrolled": true
   },
   "outputs": [
    {
     "data": {
      "text/plain": [
       "[142.2,\n",
       " 116.1,\n",
       " 137.0,\n",
       " 133.5,\n",
       " 137.1,\n",
       " 125.8,\n",
       " 127.2,\n",
       " 123.1,\n",
       " 127.6,\n",
       " 143.0,\n",
       " 142.0,\n",
       " 141.8,\n",
       " 136.2,\n",
       " 134.4,\n",
       " 151.2,\n",
       " 137.8,\n",
       " 144.7,\n",
       " 143.0]"
      ]
     },
     "execution_count": 88,
     "metadata": {},
     "output_type": "execute_result"
    }
   ],
   "source": [
    "homelist"
   ]
  },
  {
   "cell_type": "code",
   "execution_count": 85,
   "metadata": {},
   "outputs": [
    {
     "data": {
      "text/plain": [
       "[<matplotlib.lines.Line2D at 0x7f908b2f3f50>]"
      ]
     },
     "execution_count": 85,
     "metadata": {},
     "output_type": "execute_result"
    },
    {
     "data": {
      "image/png": "[encoded data removed]",
      "text/plain": [
       "<Figure size 432x288 with 1 Axes>"
      ]
     },
     "metadata": {
      "needs_background": "light"
     },
     "output_type": "display_data"
    }
   ],
   "source": [
    "plt.plot(range(18),homelist,marker='o')"
   ]
  },
  {
   "cell_type": "code",
   "execution_count": 98,
   "metadata": {},
   "outputs": [
    {
     "data": {
      "text/plain": [
       "([<matplotlib.axis.XTick at 0x7f908c268310>,\n",
       "  <matplotlib.axis.XTick at 0x7f908b9f9d90>,\n",
       "  <matplotlib.axis.XTick at 0x7f908b9eff90>,\n",
       "  <matplotlib.axis.XTick at 0x7f908b3c4f50>,\n",
       "  <matplotlib.axis.XTick at 0x7f908b482b10>,\n",
       "  <matplotlib.axis.XTick at 0x7f908b482dd0>,\n",
       "  <matplotlib.axis.XTick at 0x7f908b473850>,\n",
       "  <matplotlib.axis.XTick at 0x7f908c277990>,\n",
       "  <matplotlib.axis.XTick at 0x7f908b473710>,\n",
       "  <matplotlib.axis.XTick at 0x7f908b473e10>,\n",
       "  <matplotlib.axis.XTick at 0x7f908b471e10>,\n",
       "  <matplotlib.axis.XTick at 0x7f908b471350>],\n",
       " <a list of 12 Text xticklabel objects>)"
      ]
     },
     "execution_count": 98,
     "metadata": {},
     "output_type": "execute_result"
    },
    {
     "data": {
      "image/png": "[encoded data removed]",
      "text/plain": [
       "<Figure size 432x288 with 1 Axes>"
      ]
     },
     "metadata": {
      "needs_background": "light"
     },
     "output_type": "display_data"
    }
   ],
   "source": [
    "plt.plot(range(12),homelist[:12],marker='o')\n",
    "plt.title('jan19~dec19')\n",
    "plt.xticks(range(12))"
   ]
  },
  {
   "cell_type": "code",
   "execution_count": 107,
   "metadata": {},
   "outputs": [
    {
     "data": {
      "text/plain": [
       "<matplotlib.axes._subplots.AxesSubplot at 0x7f908ada42d0>"
      ]
     },
     "execution_count": 107,
     "metadata": {},
     "output_type": "execute_result"
    },
    {
     "data": {
      "image/png": "[encoded data removed]",
      "text/plain": [
       "<Figure size 432x288 with 1 Axes>"
      ]
     },
     "metadata": {
      "needs_background": "light"
     },
     "output_type": "display_data"
    }
   ],
   "source": [
    "rec.groupby(['MONTH']).agg({'total_price':['sum']}).plot(marker='o',xticks=(range(1,13)))\n"
   ]
  },
  {
   "cell_type": "code",
   "execution_count": 102,
   "metadata": {},
   "outputs": [],
   "source": [
    "sobi=[109,109,110,110,109,108,107,105,106,108,109,109]"
   ]
  },
  {
   "cell_type": "code",
   "execution_count": 103,
   "metadata": {},
   "outputs": [
    {
     "data": {
      "text/plain": [
       "12"
      ]
     },
     "execution_count": 103,
     "metadata": {},
     "output_type": "execute_result"
    }
   ],
   "source": [
    "len(sobi)"
   ]
  },
  {
   "cell_type": "code",
   "execution_count": 104,
   "metadata": {},
   "outputs": [
    {
     "data": {
      "text/plain": [
       "([<matplotlib.axis.XTick at 0x7f908df78f90>,\n",
       "  <matplotlib.axis.XTick at 0x7f908df6a750>,\n",
       "  <matplotlib.axis.XTick at 0x7f908df78610>,\n",
       "  <matplotlib.axis.XTick at 0x7f908b44f790>,\n",
       "  <matplotlib.axis.XTick at 0x7f908b44fd10>,\n",
       "  <matplotlib.axis.XTick at 0x7f908b455350>,\n",
       "  <matplotlib.axis.XTick at 0x7f908b4559d0>,\n",
       "  <matplotlib.axis.XTick at 0x7f908b44f850>,\n",
       "  <matplotlib.axis.XTick at 0x7f908b4552d0>,\n",
       "  <matplotlib.axis.XTick at 0x7f908b4816d0>,\n",
       "  <matplotlib.axis.XTick at 0x7f908b481cd0>,\n",
       "  <matplotlib.axis.XTick at 0x7f908b47d350>],\n",
       " <a list of 12 Text xticklabel objects>)"
      ]
     },
     "execution_count": 104,
     "metadata": {},
     "output_type": "execute_result"
    },
    {
     "data": {
      "image/png": "[encoded data removed]",
      "text/plain": [
       "<Figure size 432x288 with 1 Axes>"
      ]
     },
     "metadata": {
      "needs_background": "light"
     },
     "output_type": "display_data"
    }
   ],
   "source": [
    "plt.plot(range(12),sobi,marker='o')\n",
    "plt.title('jan19~dec19 sobi')\n",
    "plt.xticks(range(12))"
   ]
  },
  {
   "cell_type": "code",
   "execution_count": null,
   "metadata": {},
   "outputs": [],
   "source": []
  }
 ],
 "metadata": {
  "kernelspec": {
   "display_name": "Python 3",
   "language": "python",
   "name": "python3"
  },
  "language_info": {
   "codemirror_mode": {
    "name": "ipython",
    "version": 3
   },
   "file_extension": ".py",
   "mimetype": "text/x-python",
   "name": "python",
   "nbconvert_exporter": "python",
   "pygments_lexer": "ipython3",
   "version": "3.7.6"
  }
 },
 "nbformat": 4,
 "nbformat_minor": 4
}
