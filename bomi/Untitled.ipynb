{
 "cells": [
  {
   "cell_type": "code",
   "execution_count": 81,
   "metadata": {},
   "outputs": [],
   "source": [
    "import pandas as pd\n",
    "import seaborn as sns\n",
    "from dataprep.eda import *\n",
    "import matplotlib.pyplot as plt\n",
    "import numpy as np\n",
    "plt.rcParams['font.family'] = 'AppleGothic'"
   ]
  },
  {
   "cell_type": "code",
   "execution_count": 98,
   "metadata": {},
   "outputs": [],
   "source": [
    "rec=pd.read_excel('/Users/bomi/Downloads/2020 빅콘테스트 데이터분석분야-챔피언리그_2019년 실적데이터_v1_200818.xlsx',header=1)\n",
    "\n",
    "features=['broadcast','exp_min','m_code','p_code','p_name','p_group','unit_price','total_price']\n",
    "rec.columns=features\n",
    "\n",
    "rec['broadcast'] = rec['broadcast'].astype('datetime64[ns]')\n",
    "rec['month'] = rec.broadcast.dt.month\n",
    "rec['day'] = rec.broadcast.dt.day\n",
    "rec['hour']=rec.broadcast.dt.hour\n",
    "rec['quarter'] = rec.broadcast.dt.quarter\n",
    "\n",
    "rec=rec.dropna(subset=['total_price'])\n",
    "rec['exp_min']=rec['exp_min'].fillna(method='ffill')"
   ]
  },
  {
   "cell_type": "code",
   "execution_count": 75,
   "metadata": {
    "scrolled": true
   },
   "outputs": [
    {
     "data": {
      "text/html": [
       "<div>\n",
       "<style scoped>\n",
       "    .dataframe tbody tr th:only-of-type {\n",
       "        vertical-align: middle;\n",
       "    }\n",
       "\n",
       "    .dataframe tbody tr th {\n",
       "        vertical-align: top;\n",
       "    }\n",
       "\n",
       "    .dataframe thead th {\n",
       "        text-align: right;\n",
       "    }\n",
       "</style>\n",
       "<table border=\"1\" class=\"dataframe\">\n",
       "  <thead>\n",
       "    <tr style=\"text-align: right;\">\n",
       "      <th></th>\n",
       "      <th>broadcast</th>\n",
       "      <th>exp_min</th>\n",
       "      <th>m_code</th>\n",
       "      <th>p_code</th>\n",
       "      <th>p_name</th>\n",
       "      <th>p_group</th>\n",
       "      <th>unit_price</th>\n",
       "      <th>total_price</th>\n",
       "      <th>month</th>\n",
       "      <th>day</th>\n",
       "      <th>hour</th>\n",
       "      <th>quarter</th>\n",
       "    </tr>\n",
       "  </thead>\n",
       "  <tbody>\n",
       "    <tr>\n",
       "      <th>0</th>\n",
       "      <td>2019-01-01 06:00:00</td>\n",
       "      <td>20.0</td>\n",
       "      <td>100346</td>\n",
       "      <td>201072</td>\n",
       "      <td>테이트 남성 셀린니트3종</td>\n",
       "      <td>의류</td>\n",
       "      <td>39900</td>\n",
       "      <td>2099000.0</td>\n",
       "      <td>1</td>\n",
       "      <td>1</td>\n",
       "      <td>6</td>\n",
       "      <td>1</td>\n",
       "    </tr>\n",
       "    <tr>\n",
       "      <th>1</th>\n",
       "      <td>2019-01-01 06:00:00</td>\n",
       "      <td>20.0</td>\n",
       "      <td>100346</td>\n",
       "      <td>201079</td>\n",
       "      <td>테이트 여성 셀린니트3종</td>\n",
       "      <td>의류</td>\n",
       "      <td>39900</td>\n",
       "      <td>4371000.0</td>\n",
       "      <td>1</td>\n",
       "      <td>1</td>\n",
       "      <td>6</td>\n",
       "      <td>1</td>\n",
       "    </tr>\n",
       "    <tr>\n",
       "      <th>2</th>\n",
       "      <td>2019-01-01 06:20:00</td>\n",
       "      <td>20.0</td>\n",
       "      <td>100346</td>\n",
       "      <td>201072</td>\n",
       "      <td>테이트 남성 셀린니트3종</td>\n",
       "      <td>의류</td>\n",
       "      <td>39900</td>\n",
       "      <td>3262000.0</td>\n",
       "      <td>1</td>\n",
       "      <td>1</td>\n",
       "      <td>6</td>\n",
       "      <td>1</td>\n",
       "    </tr>\n",
       "    <tr>\n",
       "      <th>3</th>\n",
       "      <td>2019-01-01 06:20:00</td>\n",
       "      <td>20.0</td>\n",
       "      <td>100346</td>\n",
       "      <td>201079</td>\n",
       "      <td>테이트 여성 셀린니트3종</td>\n",
       "      <td>의류</td>\n",
       "      <td>39900</td>\n",
       "      <td>6955000.0</td>\n",
       "      <td>1</td>\n",
       "      <td>1</td>\n",
       "      <td>6</td>\n",
       "      <td>1</td>\n",
       "    </tr>\n",
       "    <tr>\n",
       "      <th>4</th>\n",
       "      <td>2019-01-01 06:40:00</td>\n",
       "      <td>20.0</td>\n",
       "      <td>100346</td>\n",
       "      <td>201072</td>\n",
       "      <td>테이트 남성 셀린니트3종</td>\n",
       "      <td>의류</td>\n",
       "      <td>39900</td>\n",
       "      <td>6672000.0</td>\n",
       "      <td>1</td>\n",
       "      <td>1</td>\n",
       "      <td>6</td>\n",
       "      <td>1</td>\n",
       "    </tr>\n",
       "    <tr>\n",
       "      <th>...</th>\n",
       "      <td>...</td>\n",
       "      <td>...</td>\n",
       "      <td>...</td>\n",
       "      <td>...</td>\n",
       "      <td>...</td>\n",
       "      <td>...</td>\n",
       "      <td>...</td>\n",
       "      <td>...</td>\n",
       "      <td>...</td>\n",
       "      <td>...</td>\n",
       "      <td>...</td>\n",
       "      <td>...</td>\n",
       "    </tr>\n",
       "    <tr>\n",
       "      <th>38299</th>\n",
       "      <td>2019-12-31 23:40:00</td>\n",
       "      <td>20.0</td>\n",
       "      <td>100448</td>\n",
       "      <td>201391</td>\n",
       "      <td>일시불쿠첸압력밥솥 6인용</td>\n",
       "      <td>주방</td>\n",
       "      <td>148000</td>\n",
       "      <td>10157000.0</td>\n",
       "      <td>12</td>\n",
       "      <td>31</td>\n",
       "      <td>23</td>\n",
       "      <td>4</td>\n",
       "    </tr>\n",
       "    <tr>\n",
       "      <th>38300</th>\n",
       "      <td>2020-01-01 00:00:00</td>\n",
       "      <td>20.0</td>\n",
       "      <td>100448</td>\n",
       "      <td>201383</td>\n",
       "      <td>무이자쿠첸압력밥솥 10인용</td>\n",
       "      <td>주방</td>\n",
       "      <td>178000</td>\n",
       "      <td>50929000.0</td>\n",
       "      <td>1</td>\n",
       "      <td>1</td>\n",
       "      <td>0</td>\n",
       "      <td>1</td>\n",
       "    </tr>\n",
       "    <tr>\n",
       "      <th>38301</th>\n",
       "      <td>2020-01-01 00:00:00</td>\n",
       "      <td>20.0</td>\n",
       "      <td>100448</td>\n",
       "      <td>201390</td>\n",
       "      <td>일시불쿠첸압력밥솥 10인용</td>\n",
       "      <td>주방</td>\n",
       "      <td>168000</td>\n",
       "      <td>104392000.0</td>\n",
       "      <td>1</td>\n",
       "      <td>1</td>\n",
       "      <td>0</td>\n",
       "      <td>1</td>\n",
       "    </tr>\n",
       "    <tr>\n",
       "      <th>38302</th>\n",
       "      <td>2020-01-01 00:00:00</td>\n",
       "      <td>20.0</td>\n",
       "      <td>100448</td>\n",
       "      <td>201384</td>\n",
       "      <td>무이자쿠첸압력밥솥 6인용</td>\n",
       "      <td>주방</td>\n",
       "      <td>158000</td>\n",
       "      <td>13765000.0</td>\n",
       "      <td>1</td>\n",
       "      <td>1</td>\n",
       "      <td>0</td>\n",
       "      <td>1</td>\n",
       "    </tr>\n",
       "    <tr>\n",
       "      <th>38303</th>\n",
       "      <td>2020-01-01 00:00:00</td>\n",
       "      <td>20.0</td>\n",
       "      <td>100448</td>\n",
       "      <td>201391</td>\n",
       "      <td>일시불쿠첸압력밥솥 6인용</td>\n",
       "      <td>주방</td>\n",
       "      <td>148000</td>\n",
       "      <td>46608000.0</td>\n",
       "      <td>1</td>\n",
       "      <td>1</td>\n",
       "      <td>0</td>\n",
       "      <td>1</td>\n",
       "    </tr>\n",
       "  </tbody>\n",
       "</table>\n",
       "<p>35379 rows × 12 columns</p>\n",
       "</div>"
      ],
      "text/plain": [
       "                broadcast  exp_min  m_code  p_code          p_name p_group  \\\n",
       "0     2019-01-01 06:00:00     20.0  100346  201072   테이트 남성 셀린니트3종      의류   \n",
       "1     2019-01-01 06:00:00     20.0  100346  201079   테이트 여성 셀린니트3종      의류   \n",
       "2     2019-01-01 06:20:00     20.0  100346  201072   테이트 남성 셀린니트3종      의류   \n",
       "3     2019-01-01 06:20:00     20.0  100346  201079   테이트 여성 셀린니트3종      의류   \n",
       "4     2019-01-01 06:40:00     20.0  100346  201072   테이트 남성 셀린니트3종      의류   \n",
       "...                   ...      ...     ...     ...             ...     ...   \n",
       "38299 2019-12-31 23:40:00     20.0  100448  201391   일시불쿠첸압력밥솥 6인용      주방   \n",
       "38300 2020-01-01 00:00:00     20.0  100448  201383  무이자쿠첸압력밥솥 10인용      주방   \n",
       "38301 2020-01-01 00:00:00     20.0  100448  201390  일시불쿠첸압력밥솥 10인용      주방   \n",
       "38302 2020-01-01 00:00:00     20.0  100448  201384   무이자쿠첸압력밥솥 6인용      주방   \n",
       "38303 2020-01-01 00:00:00     20.0  100448  201391   일시불쿠첸압력밥솥 6인용      주방   \n",
       "\n",
       "       unit_price  total_price  month  day  hour  quarter  \n",
       "0           39900    2099000.0      1    1     6        1  \n",
       "1           39900    4371000.0      1    1     6        1  \n",
       "2           39900    3262000.0      1    1     6        1  \n",
       "3           39900    6955000.0      1    1     6        1  \n",
       "4           39900    6672000.0      1    1     6        1  \n",
       "...           ...          ...    ...  ...   ...      ...  \n",
       "38299      148000   10157000.0     12   31    23        4  \n",
       "38300      178000   50929000.0      1    1     0        1  \n",
       "38301      168000  104392000.0      1    1     0        1  \n",
       "38302      158000   13765000.0      1    1     0        1  \n",
       "38303      148000   46608000.0      1    1     0        1  \n",
       "\n",
       "[35379 rows x 12 columns]"
      ]
     },
     "execution_count": 75,
     "metadata": {},
     "output_type": "execute_result"
    }
   ],
   "source": [
    "rec"
   ]
  },
  {
   "cell_type": "code",
   "execution_count": 103,
   "metadata": {},
   "outputs": [],
   "source": [
    "rec['p_group']=pd.Categorical(rec['p_group']).codes"
   ]
  },
  {
   "cell_type": "code",
   "execution_count": 100,
   "metadata": {},
   "outputs": [
    {
     "data": {
      "text/plain": [
       "0          2099000.0\n",
       "1          4371000.0\n",
       "2          3262000.0\n",
       "3          6955000.0\n",
       "4          6672000.0\n",
       "            ...     \n",
       "38299     10157000.0\n",
       "38300     50929000.0\n",
       "38301    104392000.0\n",
       "38302     13765000.0\n",
       "38303     46608000.0\n",
       "Name: total_price, Length: 35379, dtype: float64"
      ]
     },
     "execution_count": 100,
     "metadata": {},
     "output_type": "execute_result"
    }
   ],
   "source": [
    "rec_y=rec['total_price']\n",
    "rec_y"
   ]
  },
  {
   "cell_type": "code",
   "execution_count": null,
   "metadata": {},
   "outputs": [],
   "source": []
  },
  {
   "cell_type": "code",
   "execution_count": 101,
   "metadata": {},
   "outputs": [],
   "source": [
    "del rec['total_price']"
   ]
  },
  {
   "cell_type": "code",
   "execution_count": 105,
   "metadata": {},
   "outputs": [],
   "source": [
    "del rec['p_name']"
   ]
  },
  {
   "cell_type": "code",
   "execution_count": 126,
   "metadata": {},
   "outputs": [],
   "source": [
    "del rec['broadcast']"
   ]
  },
  {
   "cell_type": "code",
   "execution_count": 127,
   "metadata": {
    "scrolled": true
   },
   "outputs": [
    {
     "data": {
      "text/html": [
       "<div>\n",
       "<style scoped>\n",
       "    .dataframe tbody tr th:only-of-type {\n",
       "        vertical-align: middle;\n",
       "    }\n",
       "\n",
       "    .dataframe tbody tr th {\n",
       "        vertical-align: top;\n",
       "    }\n",
       "\n",
       "    .dataframe thead th {\n",
       "        text-align: right;\n",
       "    }\n",
       "</style>\n",
       "<table border=\"1\" class=\"dataframe\">\n",
       "  <thead>\n",
       "    <tr style=\"text-align: right;\">\n",
       "      <th></th>\n",
       "      <th>exp_min</th>\n",
       "      <th>m_code</th>\n",
       "      <th>p_code</th>\n",
       "      <th>p_group</th>\n",
       "      <th>unit_price</th>\n",
       "      <th>month</th>\n",
       "      <th>day</th>\n",
       "      <th>hour</th>\n",
       "      <th>quarter</th>\n",
       "    </tr>\n",
       "  </thead>\n",
       "  <tbody>\n",
       "    <tr>\n",
       "      <th>0</th>\n",
       "      <td>20.0</td>\n",
       "      <td>100346</td>\n",
       "      <td>201072</td>\n",
       "      <td>6</td>\n",
       "      <td>39900</td>\n",
       "      <td>1</td>\n",
       "      <td>1</td>\n",
       "      <td>6</td>\n",
       "      <td>1</td>\n",
       "    </tr>\n",
       "    <tr>\n",
       "      <th>1</th>\n",
       "      <td>20.0</td>\n",
       "      <td>100346</td>\n",
       "      <td>201079</td>\n",
       "      <td>6</td>\n",
       "      <td>39900</td>\n",
       "      <td>1</td>\n",
       "      <td>1</td>\n",
       "      <td>6</td>\n",
       "      <td>1</td>\n",
       "    </tr>\n",
       "    <tr>\n",
       "      <th>2</th>\n",
       "      <td>20.0</td>\n",
       "      <td>100346</td>\n",
       "      <td>201072</td>\n",
       "      <td>6</td>\n",
       "      <td>39900</td>\n",
       "      <td>1</td>\n",
       "      <td>1</td>\n",
       "      <td>6</td>\n",
       "      <td>1</td>\n",
       "    </tr>\n",
       "    <tr>\n",
       "      <th>3</th>\n",
       "      <td>20.0</td>\n",
       "      <td>100346</td>\n",
       "      <td>201079</td>\n",
       "      <td>6</td>\n",
       "      <td>39900</td>\n",
       "      <td>1</td>\n",
       "      <td>1</td>\n",
       "      <td>6</td>\n",
       "      <td>1</td>\n",
       "    </tr>\n",
       "    <tr>\n",
       "      <th>4</th>\n",
       "      <td>20.0</td>\n",
       "      <td>100346</td>\n",
       "      <td>201072</td>\n",
       "      <td>6</td>\n",
       "      <td>39900</td>\n",
       "      <td>1</td>\n",
       "      <td>1</td>\n",
       "      <td>6</td>\n",
       "      <td>1</td>\n",
       "    </tr>\n",
       "  </tbody>\n",
       "</table>\n",
       "</div>"
      ],
      "text/plain": [
       "   exp_min  m_code  p_code  p_group  unit_price  month  day  hour  quarter\n",
       "0     20.0  100346  201072        6       39900      1    1     6        1\n",
       "1     20.0  100346  201079        6       39900      1    1     6        1\n",
       "2     20.0  100346  201072        6       39900      1    1     6        1\n",
       "3     20.0  100346  201079        6       39900      1    1     6        1\n",
       "4     20.0  100346  201072        6       39900      1    1     6        1"
      ]
     },
     "execution_count": 127,
     "metadata": {},
     "output_type": "execute_result"
    }
   ],
   "source": [
    "rec.head()"
   ]
  },
  {
   "cell_type": "code",
   "execution_count": 128,
   "metadata": {},
   "outputs": [],
   "source": [
    "x=np.array(rec)"
   ]
  },
  {
   "cell_type": "code",
   "execution_count": 129,
   "metadata": {
    "scrolled": true
   },
   "outputs": [
    {
     "data": {
      "text/plain": [
       "(35379, 9)"
      ]
     },
     "execution_count": 129,
     "metadata": {},
     "output_type": "execute_result"
    }
   ],
   "source": [
    "x.shape"
   ]
  },
  {
   "cell_type": "code",
   "execution_count": null,
   "metadata": {},
   "outputs": [],
   "source": [
    "y=np.array(rec_y)"
   ]
  },
  {
   "cell_type": "code",
   "execution_count": null,
   "metadata": {},
   "outputs": [],
   "source": [
    "y.shape"
   ]
  },
  {
   "cell_type": "code",
   "execution_count": 121,
   "metadata": {},
   "outputs": [],
   "source": [
    "from sklearn.model_selection import train_test_split"
   ]
  },
  {
   "cell_type": "code",
   "execution_count": 130,
   "metadata": {},
   "outputs": [],
   "source": [
    "train_x,eval_x,train_y,eval_y=train_test_split(x,y,test_size=0.2)"
   ]
  },
  {
   "cell_type": "code",
   "execution_count": null,
   "metadata": {},
   "outputs": [],
   "source": []
  },
  {
   "cell_type": "code",
   "execution_count": 134,
   "metadata": {},
   "outputs": [],
   "source": [
    "from sklearn.ensemble import RandomForestRegressor\n",
    "from sklearn.ensemble import RandomForestClassifier"
   ]
  },
  {
   "cell_type": "code",
   "execution_count": null,
   "metadata": {},
   "outputs": [
    {
     "name": "stderr",
     "output_type": "stream",
     "text": [
      "/opt/anaconda3/lib/python3.7/site-packages/ipykernel_launcher.py:2: DataConversionWarning: A column-vector y was passed when a 1d array was expected. Please change the shape of y to (n_samples,), for example using ravel().\n",
      "  \n"
     ]
    }
   ],
   "source": [
    "forest_reg=RandomForestClassifier()\n",
    "forest_reg.fit(train_x,train_y)"
   ]
  },
  {
   "cell_type": "code",
   "execution_count": 133,
   "metadata": {},
   "outputs": [
    {
     "ename": "NameError",
     "evalue": "name 'forest_mse' is not defined",
     "output_type": "error",
     "traceback": [
      "\u001b[0;31m---------------------------------------------------------------------------\u001b[0m",
      "\u001b[0;31mNameError\u001b[0m                                 Traceback (most recent call last)",
      "\u001b[0;32m<ipython-input-133-e422c8fc52c1>\u001b[0m in \u001b[0;36m<module>\u001b[0;34m\u001b[0m\n\u001b[0;32m----> 1\u001b[0;31m \u001b[0mforest_mse\u001b[0m\u001b[0;34m\u001b[0m\u001b[0;34m\u001b[0m\u001b[0m\n\u001b[0m",
      "\u001b[0;31mNameError\u001b[0m: name 'forest_mse' is not defined"
     ]
    }
   ],
   "source": []
  },
  {
   "cell_type": "code",
   "execution_count": null,
   "metadata": {},
   "outputs": [],
   "source": []
  }
 ],
 "metadata": {
  "kernelspec": {
   "display_name": "Python 3",
   "language": "python",
   "name": "python3"
  },
  "language_info": {
   "codemirror_mode": {
    "name": "ipython",
    "version": 3
   },
   "file_extension": ".py",
   "mimetype": "text/x-python",
   "name": "python",
   "nbconvert_exporter": "python",
   "pygments_lexer": "ipython3",
   "version": "3.7.6"
  }
 },
 "nbformat": 4,
 "nbformat_minor": 4
}
