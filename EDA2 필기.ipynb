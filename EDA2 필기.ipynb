{
 "cells": [
  {
   "cell_type": "code",
   "execution_count": null,
   "metadata": {},
   "outputs": [],
   "source": [
    "def year_timeslot(group):\n",
    "    row = 2\n",
    "    col = 1\n",
    "    f, ax = plt.subplots(row,col,figsize=(20,7 * row))\n",
    "\n",
    "    # 시간대와 요일\n",
    "    sns.barplot(x = 'DAY_NUM', y = 'total_price', data = split_df(sum_df,'p_group',group), hue = 'timeslot', ax = ax[0])\n",
    "\n",
    "    # 계절과 요일\n",
    "    sns.barplot(x = 'season', y = 'total_price', data = split_df(sum_df,'p_group', group), hue = 'DAY_NUM', ax = ax[1])\n",
    "    \n",
    "def season_timeslot(group):\n",
    "    row = 8\n",
    "    col = 1\n",
    "    f, ax = plt.subplots(row,col,figsize=(20,7 * row))\n",
    "    # 시즌1의 매출\n",
    "    sns.barplot(x = 'DAY_NUM', y = 'total_price', data = split_df(split_df(sum_df,'p_group',group),'season',1), hue = 'timeslot', ax = ax[0])\n",
    "    sns.barplot(x = 'DAY_NUM', y = 'total_price', data = split_df(split_df(sum_df,'p_group',group),'season',2), hue = 'timeslot', ax = ax[1])\n",
    "    sns.barplot(x = 'DAY_NUM', y = 'total_price', data = split_df(split_df(sum_df,'p_group',group),'season',3), hue = 'timeslot', ax = ax[2])\n",
    "    sns.barplot(x = 'DAY_NUM', y = 'total_price', data = split_df(split_df(sum_df,'p_group',group),'season',4), hue = 'timeslot', ax = ax[3])"
   ]
  }
 ],
 "metadata": {
  "hide_input": false,
  "kernelspec": {
   "display_name": "Python 3",
   "language": "python",
   "name": "python3"
  },
  "language_info": {
   "codemirror_mode": {
    "name": "ipython",
    "version": 3
   },
   "file_extension": ".py",
   "mimetype": "text/x-python",
   "name": "python",
   "nbconvert_exporter": "python",
   "pygments_lexer": "ipython3",
   "version": "3.7.6"
  }
 },
 "nbformat": 4,
 "nbformat_minor": 4
}
