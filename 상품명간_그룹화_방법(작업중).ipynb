{
  "nbformat": 4,
  "nbformat_minor": 0,
  "metadata": {
    "colab": {
      "name": "상품명간 그룹화 방법(작업중).ipynb",
      "provenance": [],
      "private_outputs": true,
      "mount_file_id": "1VrAH-761g6320CIgTAR6HJ5P9GO1S73C",
      "authorship_tag": "ABX9TyOtLbZm1fDsHJPWqTwpP+rP",
      "include_colab_link": true
    },
    "kernelspec": {
      "name": "python3",
      "display_name": "Python 3"
    }
  },
  "cells": [
    {
      "cell_type": "markdown",
      "metadata": {
        "id": "view-in-github",
        "colab_type": "text"
      },
      "source": [
        "<a href=\"https://colab.research.google.com/github/bombom93/bigcontest/blob/master/%EC%83%81%ED%92%88%EB%AA%85%EA%B0%84_%EA%B7%B8%EB%A3%B9%ED%99%94_%EB%B0%A9%EB%B2%95(%EC%9E%91%EC%97%85%EC%A4%91).ipynb\" target=\"_parent\"><img src=\"https://colab.research.google.com/assets/colab-badge.svg\" alt=\"Open In Colab\"/></a>"
      ]
    },
    {
      "cell_type": "code",
      "metadata": {
        "id": "yyp6F87bwJ9w",
        "colab_type": "code",
        "colab": {}
      },
      "source": [
        "import pandas as pd\n",
        "import numpy as np\n",
        "from gensim.models.doc2vec import Doc2Vec, TaggedDocument\n",
        "# !pip install gensim"
      ],
      "execution_count": null,
      "outputs": []
    },
    {
      "cell_type": "code",
      "metadata": {
        "id": "jf--Fp7zwG-b",
        "colab_type": "code",
        "colab": {}
      },
      "source": [
        "df = pd.read_excel('/content/drive/My Drive/빅데이터_콘테스트/data_information/bigcontest_record_train.xlsx', header=1)\n",
        "features = ['broadcast', 'exp_min', 'm_code', 'p_code', 'p_name', 'p_group', 'unit_price', 'total_price']\n",
        "df.columns=features\n",
        "df['sales_amount'] = round(df['total_price'] / df['unit_price'],1)\n",
        "\n",
        "df['broadcast'] = df['broadcast'].astype('datetime64[ns]')\n",
        "df['weekday'] = df.broadcast.dt.weekday + 1 # 월요일:1, 일요일:7\n",
        "df['month'] = df.broadcast.dt.month\n",
        "df['day'] = df.broadcast.dt.day\n",
        "df['hour'] = df.broadcast.dt.hour\n",
        "df['quarter'] = df.broadcast.dt.quarter"
      ],
      "execution_count": null,
      "outputs": []
    },
    {
      "cell_type": "code",
      "metadata": {
        "id": "irWZblOGwI2S",
        "colab_type": "code",
        "colab": {}
      },
      "source": [
        "p_group_list = df.p_group.unique()"
      ],
      "execution_count": null,
      "outputs": []
    },
    {
      "cell_type": "code",
      "metadata": {
        "id": "uqpO6iG-wrCL",
        "colab_type": "code",
        "colab": {}
      },
      "source": [
        "p_name_list = df.p_name.unique()\n",
        "p_name_list"
      ],
      "execution_count": null,
      "outputs": []
    },
    {
      "cell_type": "code",
      "metadata": {
        "id": "heuW1n3lw4Xq",
        "colab_type": "code",
        "colab": {}
      },
      "source": [
        "sentences = []\n",
        "for name in p_name_list:\n",
        "  sentences.append(name.split())"
      ],
      "execution_count": null,
      "outputs": []
    },
    {
      "cell_type": "code",
      "metadata": {
        "id": "qkK1fMUQxCcn",
        "colab_type": "code",
        "colab": {}
      },
      "source": [
        "sentences"
      ],
      "execution_count": null,
      "outputs": []
    },
    {
      "cell_type": "code",
      "metadata": {
        "id": "EieHLSyWxmBk",
        "colab_type": "code",
        "colab": {}
      },
      "source": [
        "documents = [TaggedDocument(doc, [i]) for i, doc in enumerate(sentences)]\n",
        "model = Doc2Vec(vector_size = 16, alpha = 0.025, min_alpha = 0.0024, min_count =10, workers=4, dm=1)\n",
        "model.build_vocab(documents)\n",
        "model.train(documents, total_examples=model.corpus_count,epochs = 10)"
      ],
      "execution_count": null,
      "outputs": []
    },
    {
      "cell_type": "code",
      "metadata": {
        "id": "VQr46NEm1Pkd",
        "colab_type": "code",
        "colab": {}
      },
      "source": [
        "from numpy import dot\n",
        "from numpy.linalg import norm\n",
        "import numpy as np\n",
        "def cos_sim(A, B):\n",
        "  return dot(A, B)/(norm(A)*norm(B))\n",
        "\n",
        "def dist(x,y):   \n",
        "  return np.sqrt(np.sum((x-y)**2))\n",
        "\n",
        "def docvec(x):\n",
        "  return model.docvecs[x]"
      ],
      "execution_count": null,
      "outputs": []
    },
    {
      "cell_type": "code",
      "metadata": {
        "id": "F9hXreMPzq7n",
        "colab_type": "code",
        "colab": {}
      },
      "source": [
        "print(cos_sim(model.docvecs[0],model.docvecs[1]),cos_sim(model.docvecs[1],model.docvecs[2]))"
      ],
      "execution_count": null,
      "outputs": []
    },
    {
      "cell_type": "code",
      "metadata": {
        "id": "4lsdJD4b2-P3",
        "colab_type": "code",
        "colab": {}
      },
      "source": [
        "print(cos_sim(model.docvecs[3],model.docvecs[5]),cos_sim(model.docvecs[3],model.docvecs[4]))"
      ],
      "execution_count": null,
      "outputs": []
    },
    {
      "cell_type": "code",
      "metadata": {
        "id": "IYQq_nq_3H-g",
        "colab_type": "code",
        "colab": {}
      },
      "source": [
        "print(dist(docvec(0),docvec(1)),dist(docvec(0),docvec(2)))"
      ],
      "execution_count": null,
      "outputs": []
    },
    {
      "cell_type": "code",
      "metadata": {
        "id": "mx-H3Dv20bob",
        "colab_type": "code",
        "colab": {}
      },
      "source": [
        "sr = pd.Series(sentences)\n",
        "sr[:15]"
      ],
      "execution_count": null,
      "outputs": []
    },
    {
      "cell_type": "code",
      "metadata": {
        "id": "6CK4mM_61xZf",
        "colab_type": "code",
        "colab": {}
      },
      "source": [
        "def jaccard(x,y):\n",
        "  sent_1 = set(sentences[x])\n",
        "  sent_2 = set(sentences[y])\n",
        "  hap = sent_1 | sent_2\n",
        "  gyo = sent_1 & sent_2\n",
        "\n",
        "  jaccard = len(gyo)/len(hap)\n",
        "  return jaccard"
      ],
      "execution_count": null,
      "outputs": []
    },
    {
      "cell_type": "code",
      "metadata": {
        "id": "49evWCRG4VoH",
        "colab_type": "code",
        "colab": {}
      },
      "source": [
        "jaccard(0,1)"
      ],
      "execution_count": null,
      "outputs": []
    },
    {
      "cell_type": "code",
      "metadata": {
        "id": "dNlSghXt5UzG",
        "colab_type": "code",
        "colab": {}
      },
      "source": [
        "jaccard(1,2)"
      ],
      "execution_count": null,
      "outputs": []
    },
    {
      "cell_type": "code",
      "metadata": {
        "id": "XN3RR3ED5WUI",
        "colab_type": "code",
        "colab": {}
      },
      "source": [
        "jaccard(3,5)"
      ],
      "execution_count": null,
      "outputs": []
    },
    {
      "cell_type": "code",
      "metadata": {
        "id": "6Z-yqp8I5X36",
        "colab_type": "code",
        "colab": {}
      },
      "source": [
        "jaccard(11,13)"
      ],
      "execution_count": null,
      "outputs": []
    },
    {
      "cell_type": "code",
      "metadata": {
        "id": "XONQN6ld5cLs",
        "colab_type": "code",
        "colab": {}
      },
      "source": [
        ""
      ],
      "execution_count": null,
      "outputs": []
    }
  ]
}